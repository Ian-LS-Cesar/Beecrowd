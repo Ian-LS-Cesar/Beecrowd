{
 "cells": [
  {
   "cell_type": "markdown",
   "metadata": {},
   "source": [
    "# #1000"
   ]
  },
  {
   "cell_type": "code",
   "execution_count": null,
   "metadata": {},
   "outputs": [],
   "source": [
    "\n",
    "print(\"Hello World!\")"
   ]
  },
  {
   "cell_type": "markdown",
   "metadata": {},
   "source": [
    "# #1001"
   ]
  },
  {
   "cell_type": "code",
   "execution_count": null,
   "metadata": {},
   "outputs": [],
   "source": [
    "A = int(input())\n",
    "B = int(input())\n",
    "\n",
    "X = A + B\n",
    "print(f\"X = {X}\")"
   ]
  },
  {
   "cell_type": "markdown",
   "metadata": {},
   "source": [
    "# #1002"
   ]
  },
  {
   "cell_type": "code",
   "execution_count": null,
   "metadata": {},
   "outputs": [],
   "source": [
    "raio = float(input())\n",
    "\n",
    "A = 3.14159 * (raio**2)\n",
    "\n",
    "print(f'A={A:.4f}')\n"
   ]
  },
  {
   "cell_type": "markdown",
   "metadata": {},
   "source": [
    "# #1003"
   ]
  },
  {
   "cell_type": "code",
   "execution_count": null,
   "metadata": {},
   "outputs": [],
   "source": [
    "A = int(input())\n",
    "B = int(input())\n",
    "\n",
    "X = A + B\n",
    "print(f\"SOMA = {X}\")"
   ]
  },
  {
   "cell_type": "markdown",
   "metadata": {},
   "source": [
    "# #1004"
   ]
  },
  {
   "cell_type": "code",
   "execution_count": null,
   "metadata": {},
   "outputs": [],
   "source": [
    "A = int(input())\n",
    "B = int(input())\n",
    "\n",
    "X = A * B\n",
    "print(f\"PROD = {X}\")"
   ]
  },
  {
   "cell_type": "markdown",
   "metadata": {},
   "source": [
    "# #1005"
   ]
  },
  {
   "cell_type": "code",
   "execution_count": null,
   "metadata": {},
   "outputs": [],
   "source": [
    "A = float(input())\n",
    "B = float(input())\n",
    "\n",
    "media = (3.5 * A + 7.5 * B)/11\n",
    "\n",
    "print(f\"MEDIA = {media:.5f}\")"
   ]
  },
  {
   "cell_type": "markdown",
   "metadata": {},
   "source": [
    "# #1006"
   ]
  },
  {
   "cell_type": "code",
   "execution_count": null,
   "metadata": {},
   "outputs": [],
   "source": [
    "A = float(input())\n",
    "B = float(input())\n",
    "C = float(input())\n",
    "\n",
    "media = (A*2 + B*3 + C*5)/10\n",
    "\n",
    "print(f'MEDIA = {media:.1f}')"
   ]
  },
  {
   "cell_type": "markdown",
   "metadata": {},
   "source": [
    "# #1007"
   ]
  },
  {
   "cell_type": "code",
   "execution_count": null,
   "metadata": {},
   "outputs": [],
   "source": [
    "A = int(input())\n",
    "B = int(input())\n",
    "C = int(input())\n",
    "D = int(input())\n",
    "\n",
    "diferenca = (A * B - C * D)\n",
    "\n",
    "print(f'DIFERENCA = {diferenca}')"
   ]
  },
  {
   "cell_type": "markdown",
   "metadata": {},
   "source": [
    "# #1008"
   ]
  },
  {
   "cell_type": "code",
   "execution_count": null,
   "metadata": {},
   "outputs": [],
   "source": [
    "funcionario = int(input())\n",
    "horasTrab = int(input())\n",
    "salHora = float(input())\n",
    "\n",
    "salario = horasTrab * salHora\n",
    "print(f'NUMBER = {funcionario}\\nSALARY = U$ {salario:.2f}')"
   ]
  },
  {
   "cell_type": "markdown",
   "metadata": {},
   "source": [
    "# #1009"
   ]
  },
  {
   "cell_type": "code",
   "execution_count": null,
   "metadata": {},
   "outputs": [],
   "source": [
    "nome = input()\n",
    "salarioFixo = float(input())\n",
    "vendas = float(input())\n",
    "\n",
    "comissao = vendas * 0.15\n",
    "\n",
    "salario = comissao + salarioFixo\n",
    "\n",
    "print(f\"TOTAL = R$ {salario:.2f}\")"
   ]
  },
  {
   "cell_type": "markdown",
   "metadata": {},
   "source": [
    "# #1010"
   ]
  },
  {
   "cell_type": "code",
   "execution_count": null,
   "metadata": {},
   "outputs": [],
   "source": [
    "produtoA = input().split(\" \")\n",
    "produtoB = input().split(\" \")\n",
    "\n",
    "codA,quantA,valA = produtoA\n",
    "codB,quantB,valB = produtoB\n",
    "\n",
    "total = (int(quantA) * float(valA) + (int(quantB) * float(valB)))\n",
    "\n",
    "print(f'VALOR A PAGAR: R$ {total:.2f}')"
   ]
  },
  {
   "cell_type": "markdown",
   "metadata": {},
   "source": [
    "# #1011"
   ]
  },
  {
   "cell_type": "code",
   "execution_count": null,
   "metadata": {},
   "outputs": [],
   "source": [
    "R = float(input())\n",
    "pi = 3.14159\n",
    "\n",
    "volume = (4/3.0)*pi*(R**3)\n",
    "\n",
    "print(f\"VOLUME = {volume:.3f}\")"
   ]
  },
  {
   "cell_type": "markdown",
   "metadata": {},
   "source": [
    "# #1012"
   ]
  },
  {
   "cell_type": "code",
   "execution_count": null,
   "metadata": {},
   "outputs": [],
   "source": [
    "A,B,C = map(float, input().split())\n",
    "pi = 3.14159\n",
    "\n",
    "areaTriangulo = (A * C)/2\n",
    "areaCirculo = pi * C**2\n",
    "areaTrapezio = ((A + B) * C)/2\n",
    "areaQuadrado = B ** 2\n",
    "areaRetangulo = A * B\n",
    "\n",
    "print(f\"TRIANGULO: {areaTriangulo:.3f}\")\n",
    "print(f\"CIRCULO: {areaCirculo:.3f}\")\n",
    "print(f\"TRAPEZIO: {areaTrapezio:.3f}\")\n",
    "print(f\"QUADRADO: {areaQuadrado:.3f}\")\n",
    "print(f\"RETANGULO: {areaRetangulo:.3f}\")\n"
   ]
  },
  {
   "cell_type": "markdown",
   "metadata": {},
   "source": [
    "# #1013"
   ]
  },
  {
   "cell_type": "code",
   "execution_count": null,
   "metadata": {},
   "outputs": [],
   "source": [
    "a, b, c = map(int, input().split())\n",
    "\n",
    "maiorAB = (a + b + abs(a - b))/2\n",
    "maiorABC = (maiorAB + c + abs(maiorAB - c))/2\n",
    "\n",
    "print(f\"{maiorABC:.0f} eh o maior\")"
   ]
  },
  {
   "cell_type": "markdown",
   "metadata": {},
   "source": [
    "# #1014"
   ]
  },
  {
   "cell_type": "code",
   "execution_count": null,
   "metadata": {},
   "outputs": [],
   "source": [
    "distanciaTotal = int(input())\n",
    "combustivelGasto = float(input())\n",
    "\n",
    "consumoMedio = distanciaTotal / combustivelGasto\n",
    "\n",
    "print(f\"{consumoMedio:.3f} km/l\")"
   ]
  },
  {
   "cell_type": "markdown",
   "metadata": {},
   "source": [
    "# #1015"
   ]
  },
  {
   "cell_type": "code",
   "execution_count": null,
   "metadata": {},
   "outputs": [],
   "source": [
    "x1, y1 = map(float, input().split())\n",
    "x2, y2 = map(float, input().split())\n",
    "\n",
    "distancia = ((x2 - x1)**2 + (y2 - y1)**2)**0.5\n",
    "\n",
    "print(f\"{distancia:.4f}\")"
   ]
  },
  {
   "cell_type": "markdown",
   "metadata": {},
   "source": [
    "# #1016"
   ]
  },
  {
   "cell_type": "code",
   "execution_count": null,
   "metadata": {},
   "outputs": [],
   "source": [
    "distancia = int(input())\n",
    "\n",
    "tempo = distancia * 2\n",
    "\n",
    "print(f\"{tempo} minutos\")\n"
   ]
  },
  {
   "cell_type": "markdown",
   "metadata": {},
   "source": [
    "# #1017"
   ]
  },
  {
   "cell_type": "code",
   "execution_count": null,
   "metadata": {},
   "outputs": [],
   "source": [
    "tempoGasto = int(input())\n",
    "velMedia = int(input())\n",
    "\n",
    "litNecessarios = (tempoGasto * velMedia) / 12\n",
    "\n",
    "print(f\"{litNecessarios:.3f}\")"
   ]
  },
  {
   "cell_type": "markdown",
   "metadata": {},
   "source": [
    "# #1018"
   ]
  },
  {
   "cell_type": "code",
   "execution_count": null,
   "metadata": {},
   "outputs": [],
   "source": [
    "dinheiro = int(input())\n",
    "total = dinheiro \n",
    "nota100, nota50, nota20, nota10, nota5, nota2, nota1 = 0, 0, 0, 0, 0, 0, 0\n",
    "\n",
    "\n",
    "if (dinheiro >= 100):\n",
    "    nota100 += dinheiro // 100\n",
    "    dinheiro = dinheiro - 100 * nota100\n",
    "\n",
    "if (dinheiro >= 50):\n",
    "    nota50 = dinheiro // 50\n",
    "    dinheiro = dinheiro - 50 * nota50\n",
    "    \n",
    "if (dinheiro >= 20):\n",
    "    nota20 = dinheiro // 20\n",
    "    dinheiro = dinheiro - 20 * nota20\n",
    "    \n",
    "if (dinheiro >= 10):\n",
    "    nota10 = dinheiro // 10\n",
    "    dinheiro = dinheiro - 10 * nota10\n",
    "    \n",
    "if (dinheiro >= 5):\n",
    "    nota5 = dinheiro // 5\n",
    "    dinheiro = dinheiro - 5 * nota5\n",
    "    \n",
    "if (dinheiro >= 2):\n",
    "    nota2 = dinheiro // 2\n",
    "    dinheiro = dinheiro - 2 * nota2\n",
    "    \n",
    "if (dinheiro == 1):\n",
    "    nota1 = dinheiro\n",
    "\n",
    "print(total)\n",
    "print(f\"{nota100} nota(s) de R$ 100,00\")\n",
    "print(f\"{nota50} nota(s) de R$ 50,00\")\n",
    "print(f\"{nota20} nota(s) de R$ 20,00\")\n",
    "print(f\"{nota10} nota(s) de R$ 10,00\")\n",
    "print(f\"{nota5} nota(s) de R$ 5,00\")\n",
    "print(f\"{nota2} nota(s) de R$ 2,00\")\n",
    "print(f\"{nota1} nota(s) de R$ 1,00\")"
   ]
  },
  {
   "cell_type": "markdown",
   "metadata": {},
   "source": [
    "# #1019"
   ]
  },
  {
   "cell_type": "code",
   "execution_count": null,
   "metadata": {},
   "outputs": [],
   "source": [
    "N = int(input())\n",
    "horas, minutos, segundos = 0, 0, 0\n",
    "\n",
    "if (N >= 3600):\n",
    "    horas = N // 3600\n",
    "    N = N - 3600 * horas\n",
    "if (N >= 60):\n",
    "    minutos = N // 60\n",
    "    N = N - 60 * minutos\n",
    "segundos = N\n",
    "\n",
    "print(f\"{horas}:{minutos}:{segundos}\")"
   ]
  },
  {
   "cell_type": "markdown",
   "metadata": {},
   "source": [
    "# #1020"
   ]
  },
  {
   "cell_type": "code",
   "execution_count": null,
   "metadata": {},
   "outputs": [],
   "source": [
    "idadeDias = int(input())\n",
    "anos, meses, dias = 0, 0, 0\n",
    "\n",
    "if (idadeDias >= 365):\n",
    "    anos = idadeDias // 365\n",
    "    idadeDias = idadeDias - anos * 365\n",
    "\n",
    "if (idadeDias >= 30):\n",
    "    meses = idadeDias // 30\n",
    "    idadeDias = idadeDias - meses * 30\n",
    "dias = idadeDias\n",
    "\n",
    "print(f\"{anos} ano(s)\")\n",
    "print(f\"{meses} mes(es)\")\n",
    "print(f\"{dias} dia(s)\")"
   ]
  },
  {
   "cell_type": "markdown",
   "metadata": {},
   "source": [
    "# #1021"
   ]
  },
  {
   "cell_type": "code",
   "execution_count": null,
   "metadata": {},
   "outputs": [],
   "source": [
    "dinheiro = float(input())\n",
    "total = dinheiro\n",
    "nota100, nota50, nota20, nota10, nota5, nota2, moeda1, moeda50, moeda025, moeda010, moeda005, moeda001 = 0, 0, 0, 0, 0, 0, 0, 0, 0, 0, 0, 0\n",
    "\n",
    "if (dinheiro >= 100):\n",
    "    nota100 += dinheiro // 100\n",
    "    dinheiro -= 100 * nota100\n",
    "\n",
    "if (dinheiro >= 50):\n",
    "    nota50 = dinheiro // 50\n",
    "    dinheiro -= 50 * nota50\n",
    "\n",
    "if (dinheiro >= 20):\n",
    "    nota20 = dinheiro // 20\n",
    "    dinheiro -= 20 * nota20\n",
    "\n",
    "if (dinheiro >= 10):\n",
    "    nota10 = dinheiro // 10\n",
    "    dinheiro -= 10 * nota10\n",
    "\n",
    "if (dinheiro >= 5):\n",
    "    nota5 = dinheiro // 5\n",
    "    dinheiro -= 5 * nota5\n",
    "\n",
    "if (dinheiro >= 2):\n",
    "    nota2 = dinheiro // 2\n",
    "    dinheiro -= 2 * nota2\n",
    "\n",
    "if (dinheiro >= 1):\n",
    "    moeda1 += int(dinheiro)\n",
    "    dinheiro -= 1 * moeda1\n",
    "\n",
    "dinheiro *= 100\n",
    "\n",
    "if (dinheiro >= 50):\n",
    "    moeda50 = dinheiro // 50\n",
    "    dinheiro -= 50 * moeda50\n",
    "\n",
    "if (dinheiro >= 25):\n",
    "    moeda025 = dinheiro // 25\n",
    "    dinheiro -= 25 * moeda025\n",
    "\n",
    "if (dinheiro >= 10):\n",
    "    moeda010 = dinheiro // 10\n",
    "    dinheiro -= 10 * moeda010\n",
    "\n",
    "if (dinheiro >= 5):\n",
    "    moeda005 = dinheiro // 5\n",
    "    dinheiro -= 5 * moeda005\n",
    "\n",
    "if (dinheiro >= 1):\n",
    "    moeda001 = int(dinheiro)\n",
    "\n",
    "print(\"NOTAS:\")\n",
    "print(f\"{nota100:.0f} nota(s) de R$ 100.00\")\n",
    "print(f\"{nota50:.0f} nota(s) de R$ 50.00\")\n",
    "print(f\"{nota20:.0f} nota(s) de R$ 20.00\")\n",
    "print(f\"{nota10:.0f} nota(s) de R$ 10.00\")\n",
    "print(f\"{nota5:.0f} nota(s) de R$ 5.00\")\n",
    "print(f\"{nota2:.0f} nota(s) de R$ 2.00\")\n",
    "\n",
    "print(\"MOEDAS:\")\n",
    "print(f\"{moeda1:.0f} moeda(s) de R$ 1.00\")\n",
    "print(f\"{moeda50:.0f} moeda(s) de R$ 0.50\")\n",
    "print(f\"{moeda025:.0f} moeda(s) de R$ 0.25\")\n",
    "print(f\"{moeda010:.0f} moeda(s) de R$ 0.10\")\n",
    "print(f\"{moeda005:.0f} moeda(s) de R$ 0.05\")\n",
    "print(f\"{moeda001:.0f} moeda(s) de R$ 0.01\")"
   ]
  },
  {
   "cell_type": "markdown",
   "metadata": {},
   "source": [
    "# #1035"
   ]
  },
  {
   "cell_type": "code",
   "execution_count": null,
   "metadata": {},
   "outputs": [],
   "source": [
    "A, B, C, D = map(int, input().split())\n",
    "\n",
    "if (B > C and D > A and C + D > A + B and C > 0 and D > 0 and A % 2 == 0):\n",
    "    print(\"Valores aceitos\")\n",
    "else:\n",
    "    print(\"Valores nao aceitos\")\n"
   ]
  },
  {
   "cell_type": "markdown",
   "metadata": {},
   "source": [
    "# #1036"
   ]
  },
  {
   "cell_type": "code",
   "execution_count": null,
   "metadata": {},
   "outputs": [],
   "source": [
    "A, B, C = map(float, input().split())\n",
    "\n",
    "delta = B**2 - 4 * A * C\n",
    "\n",
    "if (A == 0 or delta < 0):\n",
    "    print(\"Impossivel calcular\")\n",
    "else:\n",
    "    bhaskaraPosi = (-B + ((delta)) ** 0.5) / (2 * A)\n",
    "    bhaskaraNeg = (-B - ((delta)) ** 0.5) / (2 * A)\n",
    "    print(f\"R1 = {bhaskaraPosi:.5f}\")\n",
    "    print(f\"R2 = {bhaskaraNeg:.5f}\")"
   ]
  },
  {
   "cell_type": "markdown",
   "metadata": {},
   "source": [
    "# #1037"
   ]
  },
  {
   "cell_type": "code",
   "execution_count": null,
   "metadata": {},
   "outputs": [],
   "source": [
    "N = float(input())\n",
    "\n",
    "if (N >= 0 and N <= 25):\n",
    "    print(\"Intervalo [0,25]\")\n",
    "elif (N > 25 and N <= 50):\n",
    "    print(\"Intervalo (25,50]\")\n",
    "elif (N > 50 and N <= 75):\n",
    "    print(\"Intervalo (50,75]\")\n",
    "elif (N > 75 and N <=100):\n",
    "    print(\"Intervalo (75,100]\")\n",
    "else:\n",
    "    print(\"Fora de intervalo\")"
   ]
  },
  {
   "cell_type": "markdown",
   "metadata": {},
   "source": [
    "# #1038"
   ]
  },
  {
   "cell_type": "code",
   "execution_count": null,
   "metadata": {},
   "outputs": [],
   "source": [
    "codigo, quanti = map(int, input().split())\n",
    "\n",
    "match codigo:\n",
    "    case 1:\n",
    "        valor = 4\n",
    "    case 2:\n",
    "        valor = 4.5\n",
    "    case 3:\n",
    "        valor = 5\n",
    "    case 4:\n",
    "        valor = 2\n",
    "    case 5:\n",
    "        valor = 1.5\n",
    "\n",
    "preco = quanti * valor\n",
    "\n",
    "print(f\"Total: R$ {preco:.2f}\")\n",
    "\n"
   ]
  },
  {
   "cell_type": "markdown",
   "metadata": {},
   "source": [
    "# #1040"
   ]
  },
  {
   "cell_type": "code",
   "execution_count": null,
   "metadata": {},
   "outputs": [],
   "source": [
    "n1, n2, n3, n4 = map(float, input().split())\n",
    "\n",
    "notaRecu = 0\n",
    "media = (n1*2 + n2*3 + n3*4 + n4*1)/10\n",
    "\n",
    "\n",
    "print(f\"Media: {media:.1f}\")\n",
    "\n",
    "if (media >= 7):\n",
    "    print(\"Aluno aprovado.\")\n",
    "elif (5 <= media <= 6.9):\n",
    "    print(\"Aluno em exame.\")\n",
    "\n",
    "    notaRecu = float(input())\n",
    "    mediaRecu = (media + notaRecu) / 2\n",
    "    print(f\"Nota do exame: {notaRecu:.1f}\")\n",
    "    if (mediaRecu >= 5.0):\n",
    "        print(\"Aluno aprovado.\")\n",
    "        print(f\"Media final: {mediaRecu:.1f}\")\n",
    "    else:\n",
    "        print(\"Aluno reprovado.\")\n",
    "        print(f\"Media final: {mediaRecu:.1f}\")\n",
    "else:\n",
    "    print(\"Aluno reprovado.\")"
   ]
  },
  {
   "cell_type": "markdown",
   "metadata": {},
   "source": [
    "# #1041"
   ]
  },
  {
   "cell_type": "code",
   "execution_count": null,
   "metadata": {},
   "outputs": [],
   "source": [
    "x, y = map(float, input().split())\n",
    "\n",
    "if (x == 0 and y == 0):\n",
    "    print(\"Origem\")\n",
    "elif (x > 0 and y > 0):\n",
    "    print(\"Q1\")\n",
    "elif (x < 0 and y > 0):\n",
    "    print(\"Q2\")\n",
    "elif (x < 0 and y < 0):\n",
    "    print(\"Q3\")\n",
    "elif (x > 0 and y < 0):\n",
    "    print(\"Q4\")\n",
    "elif (x == 0 and y != 0):\n",
    "    print(\"Eixo Y\")\n",
    "elif (x != 0 and y == 0):\n",
    "    print(\"Eixo x\")"
   ]
  },
  {
   "cell_type": "markdown",
   "metadata": {},
   "source": [
    "# #1042"
   ]
  },
  {
   "cell_type": "code",
   "execution_count": null,
   "metadata": {},
   "outputs": [],
   "source": [
    "a, b, c = map(int, input().split())\n",
    "\n",
    "if (a > b > c):\n",
    "    print(f'{c}\\n{b}\\n{a}\\n\\n{a}\\n{b}\\n{c}')\n",
    "elif (b > a > c):\n",
    "    print(f'{b}\\n{a}\\n{b}\\n\\n{a}\\n{b}\\n{c}')\n",
    "elif (c > b > a):\n",
    "    print(f'{a}\\n{b}\\n{c}\\n\\n{a}\\n{b}\\n{c}')\n",
    "elif (a > c > b):\n",
    "    print(f'{b}\\n{c}\\n{a}\\n\\n{a}\\n{b}\\n{c}')\n",
    "elif (b > c > a):\n",
    "    print(f'{a}\\n{c}\\n{b}\\n\\n{a}\\n{b}\\n{c}')\n",
    "elif (c > a > b):\n",
    "    print(f'{b}\\n{a}\\n{c}\\n\\n{a}\\n{b}\\n{c}')\n"
   ]
  },
  {
   "cell_type": "markdown",
   "metadata": {},
   "source": [
    "# #1043"
   ]
  },
  {
   "cell_type": "code",
   "execution_count": null,
   "metadata": {},
   "outputs": [],
   "source": [
    "a, b, c = map(float, input().split())\n",
    "\n",
    "if (a + b > c and a + c > b and b + c > a):\n",
    "    perimetro = a + b + c\n",
    "    print(f'Perimetro = {perimetro:.1f}')\n",
    "else:\n",
    "    area = ((a + b) * c)/2\n",
    "    print(f'Area = {area:.1f}')"
   ]
  },
  {
   "cell_type": "markdown",
   "metadata": {},
   "source": [
    "# #1044"
   ]
  },
  {
   "cell_type": "code",
   "execution_count": null,
   "metadata": {},
   "outputs": [],
   "source": [
    "a, b = map(int, input().split())\n",
    "\n",
    "if (a % b == 0 or b % a == 0):\n",
    "    print(\"Sao Multiplos\")\n",
    "else:\n",
    "    print(\"Nao sao Multiplos\") "
   ]
  },
  {
   "cell_type": "markdown",
   "metadata": {},
   "source": [
    "# #1045"
   ]
  },
  {
   "cell_type": "code",
   "execution_count": null,
   "metadata": {},
   "outputs": [],
   "source": [
    "Lados = [float(x) for x in input().split(' ')]\n",
    "Lados.sort(reverse=True)\n",
    "A, B, C = Lados\n",
    "\n",
    "    \n",
    "if (A >= (B + C)):    \n",
    "    print(\"NAO FORMA TRIANGULO\")\n",
    "else:\n",
    "    if (A**2 == (B**2) + (C**2)):\n",
    "        print(\"TRIANGULO RETANGULO\")\n",
    "\n",
    "    elif (A**2 > (B**2) + (C**2)):\n",
    "        print(\"TRIANGULO OBTUSANGULO\") \n",
    "    \n",
    "    else:\n",
    "        print(\"TRIANGULO ACUTANGULO\")\n",
    "    \n",
    "    if (A == B == C):\n",
    "            print(\"TRIANGULO EQUILATERO\")\n",
    "\n",
    "    elif (A == B != C or A == C != B or A != B == C):\n",
    "            print(\"TRIANGULO ISOSCELES\")\n",
    "\n"
   ]
  },
  {
   "cell_type": "markdown",
   "metadata": {},
   "source": [
    "# #1046"
   ]
  },
  {
   "cell_type": "code",
   "execution_count": null,
   "metadata": {},
   "outputs": [],
   "source": [
    "horaInicial, horaFinal = map(int, input().split())\n",
    "\n",
    "if horaInicial < horaFinal:\n",
    "    horasTotais = horaFinal - horaInicial\n",
    "else:\n",
    "    horasTotais = (24 + horaFinal) - horaInicial\n",
    "print(f\"O JOGO DUROU {horasTotais} HORA(S)\")"
   ]
  },
  {
   "cell_type": "markdown",
   "metadata": {},
   "source": [
    "# #1047"
   ]
  },
  {
   "cell_type": "code",
   "execution_count": null,
   "metadata": {},
   "outputs": [],
   "source": [
    "horaInicial, minutoInicial, horaFinal, minutoFinal = map(int, input().split())\n",
    "\n",
    "if (horaInicial == minutoInicial == horaFinal == minutoFinal):\n",
    "    horasTotais = 24\n",
    "    minutosTotais = 0\n",
    "else:\n",
    "    totalInicial = ((horaInicial * 60) + minutoInicial)\n",
    "    totalFinal = ((horaFinal * 60) + minutoFinal)\n",
    "\n",
    "    if (totalInicial > totalFinal):\n",
    "        totalFinal += 1440\n",
    "    tempoTotal = totalFinal - totalInicial\n",
    "\n",
    "    horasTotais = tempoTotal // 60\n",
    "    minutosTotais = tempoTotal - (horasTotais * 60)  \n",
    "\n",
    "\n",
    "print(f\"O JOGO DUROU {horasTotais} HORA(S) E {minutosTotais} MINUTO(S)\")\n",
    "\n"
   ]
  },
  {
   "cell_type": "markdown",
   "metadata": {},
   "source": [
    "# #1048"
   ]
  },
  {
   "cell_type": "code",
   "execution_count": null,
   "metadata": {},
   "outputs": [],
   "source": [
    "salario = float(input())\n",
    "reajuste = 0 \n",
    "if (0 <= salario <= 400):\n",
    "    reajuste = 0.15\n",
    "    novoSalario = salario + (salario * reajuste)\n",
    "    reajusteGanho = novoSalario - salario\n",
    "elif (400 < salario <= 800):\n",
    "    reajuste = 0.12\n",
    "    novoSalario = salario + (salario * reajuste)\n",
    "    reajusteGanho = novoSalario - salario\n",
    "\n",
    "elif (800 < salario <= 1200):\n",
    "    reajuste = 0.10\n",
    "    novoSalario = salario + (salario * reajuste)\n",
    "    reajusteGanho = novoSalario - salario\n",
    "\n",
    "elif (1200 < salario <= 2000):\n",
    "    reajuste = 0.07\n",
    "    novoSalario = salario + (salario * reajuste)\n",
    "    reajusteGanho = novoSalario - salario\n",
    "\n",
    "elif (2000 < salario):\n",
    "    reajuste = 0.04\n",
    "    novoSalario = salario + (salario * reajuste)\n",
    "    reajusteGanho = novoSalario - salario\n",
    "print(f\"Novo salario: {novoSalario:.2f}\\nReajuste ganho: {reajusteGanho:.2f}\\nEm percentual: {reajuste * 100:.0f} %\")"
   ]
  },
  {
   "cell_type": "markdown",
   "metadata": {},
   "source": [
    "# #1049"
   ]
  },
  {
   "cell_type": "code",
   "execution_count": null,
   "metadata": {},
   "outputs": [],
   "source": [
    "vertebra = input()\n",
    "\n",
    "match vertebra:\n",
    "    case \"vertebrado\":\n",
    "        reino1 = input()\n",
    "        \n",
    "        match reino1:\n",
    "            case \"ave\":\n",
    "                alimentacao1 = input()\n",
    "                \n",
    "                match alimentacao1:\n",
    "                    \n",
    "                    case \"carnivoro\":\n",
    "                        print(\"aguia\")\n",
    "                        \n",
    "                    case \"onivoro\":\n",
    "                        print(\"pomba\")\n",
    "            case \"mamifero\":\n",
    "                alimentacao2 = input()\n",
    "                match alimentacao2:\n",
    "                    \n",
    "                    case \"onivoro\":\n",
    "                        print(\"homem\")\n",
    "                        \n",
    "                    case \"herbivoro\":\n",
    "                        print(\"vaca\")\n",
    "    case \"invertebrado\":\n",
    "        reino2 = input()\n",
    "        \n",
    "        match reino2:\n",
    "            case \"inseto\":\n",
    "                alimentacao3 = input()\n",
    "                \n",
    "                match alimentacao3:\n",
    "                    \n",
    "                    case \"hematofago\":\n",
    "                        print(\"pulga\")\n",
    "                        \n",
    "                    case \"herbivoro\":\n",
    "                        print(\"lagarta\")\n",
    "                \n",
    "            case \"anelideo\":\n",
    "                alimentacao4 = input()\n",
    "                \n",
    "                match alimentacao4:\n",
    "                    \n",
    "                    case \"hematofago\":\n",
    "                        print(\"sanguessuga\")\n",
    "                        \n",
    "                    case \"onivoro\":\n",
    "                        print(\"minhoca\")\n",
    "        "
   ]
  },
  {
   "cell_type": "markdown",
   "metadata": {},
   "source": [
    "# #1050"
   ]
  },
  {
   "cell_type": "code",
   "execution_count": null,
   "metadata": {},
   "outputs": [],
   "source": [
    "DDD = int(input())\n",
    "\n",
    "match DDD:\n",
    "    case 11:\n",
    "        print(\"Sao Paulo\")\n",
    "    case 19:\n",
    "        print(\"Campinas\")\n",
    "    case 21:\n",
    "        print(\"Rio de Janeiro\")\n",
    "    case 27:\n",
    "        print(\"Vitoria\")\n",
    "    case 31:\n",
    "        print(\"Belo Horizonte\")\n",
    "    case 32:\n",
    "        print(\"Juiz de Fora\")\n",
    "    case 61:\n",
    "        print(\"Brasilia\")\n",
    "    case 71:\n",
    "        print(\"Salvador\")\n",
    "if (DDD != 11 and DDD != 19 and DDD != 21 and DDD != 27 and DDD != 31 and DDD != 32 and DDD != 61 and DDD != 71):\n",
    "    print(\"DDD nao cadastrado\")"
   ]
  },
  {
   "cell_type": "markdown",
   "metadata": {},
   "source": [
    "# #1051\n"
   ]
  },
  {
   "cell_type": "code",
   "execution_count": null,
   "metadata": {},
   "outputs": [],
   "source": [
    "salario = float(input())\n",
    "Isento = False\n",
    "\n",
    "\n",
    "if (0 <= salario <= 2000):\n",
    "    Isento = True\n",
    "elif (2000 < salario <= 3000):\n",
    "    impostoRenda = ((salario - 2000) * 0.08)\n",
    "elif (3000 < salario <= 4500):\n",
    "    impostoRenda = (1000 * 0.08 ) + ((salario - 3000) * 0.18)\n",
    "elif (4500 < salario):\n",
    "    impostoRenda = ((1000) * 0.08) + (1500 * 0.18) + ((salario - 4500) * 0.28)\n",
    "    \n",
    "if (Isento == True):\n",
    "    print(\"Isento\")\n",
    "else:\n",
    "    print(f\"R$ {impostoRenda:.2f}\")"
   ]
  },
  {
   "cell_type": "markdown",
   "metadata": {},
   "source": [
    "# #1052"
   ]
  },
  {
   "cell_type": "code",
   "execution_count": null,
   "metadata": {},
   "outputs": [],
   "source": [
    "mes = int(input())\n",
    "\n",
    "match mes:\n",
    "    case 1:\n",
    "        print('January')\n",
    "    case 2:\n",
    "        print('February')\n",
    "    case 3:\n",
    "        print('March')\n",
    "    case 4:\n",
    "        print('April')\n",
    "    case 5:\n",
    "        print('May')\n",
    "    case 6:\n",
    "        print('June')\n",
    "    case 7:\n",
    "        print('July')\n",
    "    case 8:\n",
    "        print('August')\n",
    "    case 9:\n",
    "        print('September')\n",
    "    case 10:\n",
    "        print('October')\n",
    "    case 11:\n",
    "        print('November')\n",
    "    case 12:\n",
    "        print('December')"
   ]
  },
  {
   "cell_type": "markdown",
   "metadata": {},
   "source": [
    "# #1059"
   ]
  },
  {
   "cell_type": "code",
   "execution_count": null,
   "metadata": {},
   "outputs": [],
   "source": [
    "for i in range (2, 101, 2):\n",
    "   print(i)"
   ]
  },
  {
   "cell_type": "markdown",
   "metadata": {},
   "source": [
    "# #1060"
   ]
  },
  {
   "cell_type": "code",
   "execution_count": 19,
   "metadata": {},
   "outputs": [
    {
     "name": "stdout",
     "output_type": "stream",
     "text": [
      "4 valores positivos\n"
     ]
    }
   ],
   "source": [
    "positivo = 0\n",
    "for i in range (6):\n",
    "    N = float(input())\n",
    "    if (N > 0):\n",
    "        positivo += 1\n",
    "print(f\"{positivo} valores positivos\")"
   ]
  },
  {
   "cell_type": "markdown",
   "metadata": {},
   "source": [
    "# #1061"
   ]
  },
  {
   "cell_type": "code",
   "execution_count": null,
   "metadata": {},
   "outputs": [],
   "source": [
    "dia, data1 = input().split()\n",
    "data1 = int(data1)\n",
    "hora1, minuto1, segundo1 = map(int, input().split(\" : \"))\n",
    "\n",
    "dia, data2 = input().split()\n",
    "data2 = int(data2)\n",
    "hora2, minuto2, segundo2 = map(int, input().split(\" : \"))\n",
    "\n",
    "segundos = segundo2 - segundo1\n",
    "minutos = minuto2 - minuto1\n",
    "horas = hora2 - hora1\n",
    "data = data2 - data1\n",
    "\n",
    "if (segundos < 0):\n",
    "    segundos += 60\n",
    "    minutos -= 1\n",
    "if (minutos < 0):\n",
    "    minutos += 60\n",
    "    horas -=1\n",
    "if(horas < 0):\n",
    "    horas += 24\n",
    "    data -= 1\n",
    "\n",
    "print(f\"{data} dia(s)\\n{horas} hora(s)\\n{minutos} minuto(s)\\n{segundos} segundo(s)\")"
   ]
  },
  {
   "cell_type": "markdown",
   "metadata": {},
   "source": [
    "# #1064"
   ]
  },
  {
   "cell_type": "code",
   "execution_count": 31,
   "metadata": {},
   "outputs": [
    {
     "name": "stdout",
     "output_type": "stream",
     "text": [
      "4 valores positivos\n",
      "7.4\n"
     ]
    }
   ],
   "source": [
    "positivo = 0\n",
    "valores = 0\n",
    "for i in range (6):\n",
    "    N = float(input())\n",
    "    if (N > 0):\n",
    "        valores += N\n",
    "        positivo += 1\n",
    "print(f\"{positivo} valores positivos\\n{valores/positivo:.1f}\")"
   ]
  },
  {
   "cell_type": "markdown",
   "metadata": {},
   "source": [
    "# #1065"
   ]
  },
  {
   "cell_type": "code",
   "execution_count": 32,
   "metadata": {},
   "outputs": [
    {
     "name": "stdout",
     "output_type": "stream",
     "text": [
      "3 valores pares\n"
     ]
    }
   ],
   "source": [
    "pares = 0\n",
    "\n",
    "for i in range (5):\n",
    "    N = int(input())\n",
    "    if (N % 2 == 0):\n",
    "        pares+=1\n",
    "print(f\"{pares} valores pares\")"
   ]
  },
  {
   "cell_type": "markdown",
   "metadata": {},
   "source": [
    "# #1066"
   ]
  },
  {
   "cell_type": "code",
   "execution_count": 34,
   "metadata": {},
   "outputs": [
    {
     "name": "stdout",
     "output_type": "stream",
     "text": [
      "3 valor(es) par(es)\n",
      "2 valor(es) impar(es)\n",
      "1 valor(es) positivo(s)\n",
      "3 valor(es) negativo(s)\n"
     ]
    }
   ],
   "source": [
    "pares = 0\n",
    "impares = 0\n",
    "positivos = 0\n",
    "negativos = 0\n",
    "\n",
    "for i in range (5):\n",
    "    N = int(input())\n",
    "    \n",
    "    if (N % 2 == 0):\n",
    "        pares += 1\n",
    "    else:\n",
    "        impares += 1\n",
    "    \n",
    "    if (N > 0):\n",
    "        positivos += 1\n",
    "    elif (N < 0):\n",
    "        negativos += 1\n",
    "        \n",
    "print(f\"{pares} valor(es) par(es)\\n{impares} valor(es) impar(es)\\n{positivos} valor(es) positivo(s)\\n{negativos} valor(es) negativo(s)\")"
   ]
  },
  {
   "cell_type": "markdown",
   "metadata": {},
   "source": [
    "# #1067"
   ]
  },
  {
   "cell_type": "code",
   "execution_count": 37,
   "metadata": {},
   "outputs": [
    {
     "name": "stdout",
     "output_type": "stream",
     "text": [
      "1\n",
      "3\n",
      "5\n",
      "7\n"
     ]
    }
   ],
   "source": [
    "X = int(input())\n",
    "\n",
    "for i in range (1, X+1, 2):\n",
    "    print(i)"
   ]
  },
  {
   "cell_type": "markdown",
   "metadata": {},
   "source": [
    "# #1070"
   ]
  },
  {
   "cell_type": "code",
   "execution_count": 53,
   "metadata": {},
   "outputs": [
    {
     "name": "stdout",
     "output_type": "stream",
     "text": [
      "7\n",
      "9\n",
      "11\n",
      "13\n",
      "15\n",
      "17\n"
     ]
    }
   ],
   "source": [
    "X = int(input())\n",
    "sequencia = 0\n",
    "\n",
    "if (X % 2 != 0):\n",
    "    i = X + 2\n",
    "    print(X)\n",
    "    sequencia += 1\n",
    "elif (X % 2 == 0):\n",
    "    i = X + 1\n",
    "\n",
    "while (sequencia < 6):\n",
    "    if (i % 2 != 0):\n",
    "        print(i)    \n",
    "        i+=2\n",
    "        sequencia+=1\n",
    "    else:\n",
    "        i+= 1\n",
    "        print(i)\n",
    "        sequencia+=1"
   ]
  },
  {
   "cell_type": "markdown",
   "metadata": {},
   "source": [
    "# #1071"
   ]
  },
  {
   "cell_type": "code",
   "execution_count": 62,
   "metadata": {},
   "outputs": [
    {
     "name": "stdout",
     "output_type": "stream",
     "text": [
      "5\n"
     ]
    }
   ],
   "source": [
    "X = int(input())\n",
    "Y = int(input())\n",
    "soma = 0\n",
    "for i in range (Y + 1, X):\n",
    "    if (i % 2 != 0):\n",
    "        soma += i\n",
    "print(soma)"
   ]
  },
  {
   "cell_type": "markdown",
   "metadata": {},
   "source": [
    "# #1072"
   ]
  },
  {
   "cell_type": "code",
   "execution_count": 64,
   "metadata": {},
   "outputs": [
    {
     "name": "stdout",
     "output_type": "stream",
     "text": [
      "2 in\n",
      "2 out\n"
     ]
    }
   ],
   "source": [
    "N = int(input())\n",
    "in_ = 0\n",
    "out_ = 0\n",
    "for i in range (N):\n",
    "    X = int(input())\n",
    "    if (10 <= X <= 20):\n",
    "        in_ += 1\n",
    "    else:\n",
    "        out_ += 1\n",
    "print(f\"{in_} in\\n{out_} out\")"
   ]
  },
  {
   "cell_type": "markdown",
   "metadata": {},
   "source": [
    "# #1073"
   ]
  },
  {
   "cell_type": "code",
   "execution_count": 1,
   "metadata": {},
   "outputs": [
    {
     "name": "stdout",
     "output_type": "stream",
     "text": [
      "2^2 = 4\n",
      "4^2 = 16\n",
      "6^2 = 36\n",
      "8^2 = 64\n",
      "10^2 = 100\n",
      "12^2 = 144\n",
      "14^2 = 196\n",
      "16^2 = 256\n",
      "18^2 = 324\n",
      "20^2 = 400\n",
      "22^2 = 484\n",
      "24^2 = 576\n",
      "26^2 = 676\n",
      "28^2 = 784\n",
      "30^2 = 900\n",
      "32^2 = 1024\n",
      "34^2 = 1156\n",
      "36^2 = 1296\n",
      "38^2 = 1444\n",
      "40^2 = 1600\n"
     ]
    }
   ],
   "source": [
    "N = int(input())\n",
    "\n",
    "for i in range (1, N + 1):\n",
    "    if (i % 2 == 0):\n",
    "        quadrado = i ** 2\n",
    "        print(f\"{i}^2 = {quadrado}\")"
   ]
  },
  {
   "cell_type": "markdown",
   "metadata": {},
   "source": [
    "# #1074"
   ]
  },
  {
   "cell_type": "code",
   "execution_count": 2,
   "metadata": {},
   "outputs": [
    {
     "name": "stdout",
     "output_type": "stream",
     "text": [
      "ODD NEGATIVE\n",
      "NULL\n",
      "ODD POSITIVE\n",
      "EVEN NEGATIVE\n"
     ]
    }
   ],
   "source": [
    "N = int(input())\n",
    "\n",
    "for i in range (N):\n",
    "    x = int(input())\n",
    "    \n",
    "    if (x % 2 == 0):\n",
    "        if (x > 0):\n",
    "            print(\"EVEN POSITIVE\")\n",
    "        elif (x == 0):\n",
    "            print(\"NULL\")\n",
    "        elif (x < 0):\n",
    "            print(\"EVEN NEGATIVE\")\n",
    "    else:\n",
    "        if (x > 0):\n",
    "            print(\"ODD POSITIVE\")\n",
    "        elif (x == 0):\n",
    "            print(\"NULL\")\n",
    "        elif (x < 0):\n",
    "            print(\"ODD NEGATIVE\")"
   ]
  },
  {
   "cell_type": "markdown",
   "metadata": {},
   "source": [
    "# #1075"
   ]
  },
  {
   "cell_type": "code",
   "execution_count": 3,
   "metadata": {},
   "outputs": [
    {
     "name": "stdout",
     "output_type": "stream",
     "text": [
      "2\n",
      "15\n",
      "28\n",
      "41\n",
      "54\n",
      "67\n",
      "80\n",
      "93\n",
      "106\n",
      "119\n",
      "132\n",
      "145\n",
      "158\n",
      "171\n",
      "184\n",
      "197\n",
      "210\n",
      "223\n",
      "236\n",
      "249\n",
      "262\n",
      "275\n",
      "288\n",
      "301\n",
      "314\n",
      "327\n",
      "340\n",
      "353\n",
      "366\n",
      "379\n",
      "392\n",
      "405\n",
      "418\n",
      "431\n",
      "444\n",
      "457\n",
      "470\n",
      "483\n",
      "496\n",
      "509\n",
      "522\n",
      "535\n",
      "548\n",
      "561\n",
      "574\n",
      "587\n",
      "600\n",
      "613\n",
      "626\n",
      "639\n",
      "652\n",
      "665\n",
      "678\n",
      "691\n",
      "704\n",
      "717\n",
      "730\n",
      "743\n",
      "756\n",
      "769\n",
      "782\n",
      "795\n",
      "808\n",
      "821\n",
      "834\n",
      "847\n",
      "860\n",
      "873\n",
      "886\n",
      "899\n",
      "912\n",
      "925\n",
      "938\n",
      "951\n",
      "964\n",
      "977\n",
      "990\n",
      "1003\n",
      "1016\n",
      "1029\n",
      "1042\n",
      "1055\n",
      "1068\n",
      "1081\n",
      "1094\n",
      "1107\n",
      "1120\n",
      "1133\n",
      "1146\n",
      "1159\n",
      "1172\n",
      "1185\n",
      "1198\n",
      "1211\n",
      "1224\n",
      "1237\n",
      "1250\n",
      "1263\n",
      "1276\n",
      "1289\n",
      "1302\n",
      "1315\n",
      "1328\n",
      "1341\n",
      "1354\n",
      "1367\n",
      "1380\n",
      "1393\n",
      "1406\n",
      "1419\n",
      "1432\n",
      "1445\n",
      "1458\n",
      "1471\n",
      "1484\n",
      "1497\n",
      "1510\n",
      "1523\n",
      "1536\n",
      "1549\n",
      "1562\n",
      "1575\n",
      "1588\n",
      "1601\n",
      "1614\n",
      "1627\n",
      "1640\n",
      "1653\n",
      "1666\n",
      "1679\n",
      "1692\n",
      "1705\n",
      "1718\n",
      "1731\n",
      "1744\n",
      "1757\n",
      "1770\n",
      "1783\n",
      "1796\n",
      "1809\n",
      "1822\n",
      "1835\n",
      "1848\n",
      "1861\n",
      "1874\n",
      "1887\n",
      "1900\n",
      "1913\n",
      "1926\n",
      "1939\n",
      "1952\n",
      "1965\n",
      "1978\n",
      "1991\n",
      "2004\n",
      "2017\n",
      "2030\n",
      "2043\n",
      "2056\n",
      "2069\n",
      "2082\n",
      "2095\n",
      "2108\n",
      "2121\n",
      "2134\n",
      "2147\n",
      "2160\n",
      "2173\n",
      "2186\n",
      "2199\n",
      "2212\n",
      "2225\n",
      "2238\n",
      "2251\n",
      "2264\n",
      "2277\n",
      "2290\n",
      "2303\n",
      "2316\n",
      "2329\n",
      "2342\n",
      "2355\n",
      "2368\n",
      "2381\n",
      "2394\n",
      "2407\n",
      "2420\n",
      "2433\n",
      "2446\n",
      "2459\n",
      "2472\n",
      "2485\n",
      "2498\n",
      "2511\n",
      "2524\n",
      "2537\n",
      "2550\n",
      "2563\n",
      "2576\n",
      "2589\n",
      "2602\n",
      "2615\n",
      "2628\n",
      "2641\n",
      "2654\n",
      "2667\n",
      "2680\n",
      "2693\n",
      "2706\n",
      "2719\n",
      "2732\n",
      "2745\n",
      "2758\n",
      "2771\n",
      "2784\n",
      "2797\n",
      "2810\n",
      "2823\n",
      "2836\n",
      "2849\n",
      "2862\n",
      "2875\n",
      "2888\n",
      "2901\n",
      "2914\n",
      "2927\n",
      "2940\n",
      "2953\n",
      "2966\n",
      "2979\n",
      "2992\n",
      "3005\n",
      "3018\n",
      "3031\n",
      "3044\n",
      "3057\n",
      "3070\n",
      "3083\n",
      "3096\n",
      "3109\n",
      "3122\n",
      "3135\n",
      "3148\n",
      "3161\n",
      "3174\n",
      "3187\n",
      "3200\n",
      "3213\n",
      "3226\n",
      "3239\n",
      "3252\n",
      "3265\n",
      "3278\n",
      "3291\n",
      "3304\n",
      "3317\n",
      "3330\n",
      "3343\n",
      "3356\n",
      "3369\n",
      "3382\n",
      "3395\n",
      "3408\n",
      "3421\n",
      "3434\n",
      "3447\n",
      "3460\n",
      "3473\n",
      "3486\n",
      "3499\n",
      "3512\n",
      "3525\n",
      "3538\n",
      "3551\n",
      "3564\n",
      "3577\n",
      "3590\n",
      "3603\n",
      "3616\n",
      "3629\n",
      "3642\n",
      "3655\n",
      "3668\n",
      "3681\n",
      "3694\n",
      "3707\n",
      "3720\n",
      "3733\n",
      "3746\n",
      "3759\n",
      "3772\n",
      "3785\n",
      "3798\n",
      "3811\n",
      "3824\n",
      "3837\n",
      "3850\n",
      "3863\n",
      "3876\n",
      "3889\n",
      "3902\n",
      "3915\n",
      "3928\n",
      "3941\n",
      "3954\n",
      "3967\n",
      "3980\n",
      "3993\n",
      "4006\n",
      "4019\n",
      "4032\n",
      "4045\n",
      "4058\n",
      "4071\n",
      "4084\n",
      "4097\n",
      "4110\n",
      "4123\n",
      "4136\n",
      "4149\n",
      "4162\n",
      "4175\n",
      "4188\n",
      "4201\n",
      "4214\n",
      "4227\n",
      "4240\n",
      "4253\n",
      "4266\n",
      "4279\n",
      "4292\n",
      "4305\n",
      "4318\n",
      "4331\n",
      "4344\n",
      "4357\n",
      "4370\n",
      "4383\n",
      "4396\n",
      "4409\n",
      "4422\n",
      "4435\n",
      "4448\n",
      "4461\n",
      "4474\n",
      "4487\n",
      "4500\n",
      "4513\n",
      "4526\n",
      "4539\n",
      "4552\n",
      "4565\n",
      "4578\n",
      "4591\n",
      "4604\n",
      "4617\n",
      "4630\n",
      "4643\n",
      "4656\n",
      "4669\n",
      "4682\n",
      "4695\n",
      "4708\n",
      "4721\n",
      "4734\n",
      "4747\n",
      "4760\n",
      "4773\n",
      "4786\n",
      "4799\n",
      "4812\n",
      "4825\n",
      "4838\n",
      "4851\n",
      "4864\n",
      "4877\n",
      "4890\n",
      "4903\n",
      "4916\n",
      "4929\n",
      "4942\n",
      "4955\n",
      "4968\n",
      "4981\n",
      "4994\n",
      "5007\n",
      "5020\n",
      "5033\n",
      "5046\n",
      "5059\n",
      "5072\n",
      "5085\n",
      "5098\n",
      "5111\n",
      "5124\n",
      "5137\n",
      "5150\n",
      "5163\n",
      "5176\n",
      "5189\n",
      "5202\n",
      "5215\n",
      "5228\n",
      "5241\n",
      "5254\n",
      "5267\n",
      "5280\n",
      "5293\n",
      "5306\n",
      "5319\n",
      "5332\n",
      "5345\n",
      "5358\n",
      "5371\n",
      "5384\n",
      "5397\n",
      "5410\n",
      "5423\n",
      "5436\n",
      "5449\n",
      "5462\n",
      "5475\n",
      "5488\n",
      "5501\n",
      "5514\n",
      "5527\n",
      "5540\n",
      "5553\n",
      "5566\n",
      "5579\n",
      "5592\n",
      "5605\n",
      "5618\n",
      "5631\n",
      "5644\n",
      "5657\n",
      "5670\n",
      "5683\n",
      "5696\n",
      "5709\n",
      "5722\n",
      "5735\n",
      "5748\n",
      "5761\n",
      "5774\n",
      "5787\n",
      "5800\n",
      "5813\n",
      "5826\n",
      "5839\n",
      "5852\n",
      "5865\n",
      "5878\n",
      "5891\n",
      "5904\n",
      "5917\n",
      "5930\n",
      "5943\n",
      "5956\n",
      "5969\n",
      "5982\n",
      "5995\n",
      "6008\n",
      "6021\n",
      "6034\n",
      "6047\n",
      "6060\n",
      "6073\n",
      "6086\n",
      "6099\n",
      "6112\n",
      "6125\n",
      "6138\n",
      "6151\n",
      "6164\n",
      "6177\n",
      "6190\n",
      "6203\n",
      "6216\n",
      "6229\n",
      "6242\n",
      "6255\n",
      "6268\n",
      "6281\n",
      "6294\n",
      "6307\n",
      "6320\n",
      "6333\n",
      "6346\n",
      "6359\n",
      "6372\n",
      "6385\n",
      "6398\n",
      "6411\n",
      "6424\n",
      "6437\n",
      "6450\n",
      "6463\n",
      "6476\n",
      "6489\n",
      "6502\n",
      "6515\n",
      "6528\n",
      "6541\n",
      "6554\n",
      "6567\n",
      "6580\n",
      "6593\n",
      "6606\n",
      "6619\n",
      "6632\n",
      "6645\n",
      "6658\n",
      "6671\n",
      "6684\n",
      "6697\n",
      "6710\n",
      "6723\n",
      "6736\n",
      "6749\n",
      "6762\n",
      "6775\n",
      "6788\n",
      "6801\n",
      "6814\n",
      "6827\n",
      "6840\n",
      "6853\n",
      "6866\n",
      "6879\n",
      "6892\n",
      "6905\n",
      "6918\n",
      "6931\n",
      "6944\n",
      "6957\n",
      "6970\n",
      "6983\n",
      "6996\n",
      "7009\n",
      "7022\n",
      "7035\n",
      "7048\n",
      "7061\n",
      "7074\n",
      "7087\n",
      "7100\n",
      "7113\n",
      "7126\n",
      "7139\n",
      "7152\n",
      "7165\n",
      "7178\n",
      "7191\n",
      "7204\n",
      "7217\n",
      "7230\n",
      "7243\n",
      "7256\n",
      "7269\n",
      "7282\n",
      "7295\n",
      "7308\n",
      "7321\n",
      "7334\n",
      "7347\n",
      "7360\n",
      "7373\n",
      "7386\n",
      "7399\n",
      "7412\n",
      "7425\n",
      "7438\n",
      "7451\n",
      "7464\n",
      "7477\n",
      "7490\n",
      "7503\n",
      "7516\n",
      "7529\n",
      "7542\n",
      "7555\n",
      "7568\n",
      "7581\n",
      "7594\n",
      "7607\n",
      "7620\n",
      "7633\n",
      "7646\n",
      "7659\n",
      "7672\n",
      "7685\n",
      "7698\n",
      "7711\n",
      "7724\n",
      "7737\n",
      "7750\n",
      "7763\n",
      "7776\n",
      "7789\n",
      "7802\n",
      "7815\n",
      "7828\n",
      "7841\n",
      "7854\n",
      "7867\n",
      "7880\n",
      "7893\n",
      "7906\n",
      "7919\n",
      "7932\n",
      "7945\n",
      "7958\n",
      "7971\n",
      "7984\n",
      "7997\n",
      "8010\n",
      "8023\n",
      "8036\n",
      "8049\n",
      "8062\n",
      "8075\n",
      "8088\n",
      "8101\n",
      "8114\n",
      "8127\n",
      "8140\n",
      "8153\n",
      "8166\n",
      "8179\n",
      "8192\n",
      "8205\n",
      "8218\n",
      "8231\n",
      "8244\n",
      "8257\n",
      "8270\n",
      "8283\n",
      "8296\n",
      "8309\n",
      "8322\n",
      "8335\n",
      "8348\n",
      "8361\n",
      "8374\n",
      "8387\n",
      "8400\n",
      "8413\n",
      "8426\n",
      "8439\n",
      "8452\n",
      "8465\n",
      "8478\n",
      "8491\n",
      "8504\n",
      "8517\n",
      "8530\n",
      "8543\n",
      "8556\n",
      "8569\n",
      "8582\n",
      "8595\n",
      "8608\n",
      "8621\n",
      "8634\n",
      "8647\n",
      "8660\n",
      "8673\n",
      "8686\n",
      "8699\n",
      "8712\n",
      "8725\n",
      "8738\n",
      "8751\n",
      "8764\n",
      "8777\n",
      "8790\n",
      "8803\n",
      "8816\n",
      "8829\n",
      "8842\n",
      "8855\n",
      "8868\n",
      "8881\n",
      "8894\n",
      "8907\n",
      "8920\n",
      "8933\n",
      "8946\n",
      "8959\n",
      "8972\n",
      "8985\n",
      "8998\n",
      "9011\n",
      "9024\n",
      "9037\n",
      "9050\n",
      "9063\n",
      "9076\n",
      "9089\n",
      "9102\n",
      "9115\n",
      "9128\n",
      "9141\n",
      "9154\n",
      "9167\n",
      "9180\n",
      "9193\n",
      "9206\n",
      "9219\n",
      "9232\n",
      "9245\n",
      "9258\n",
      "9271\n",
      "9284\n",
      "9297\n",
      "9310\n",
      "9323\n",
      "9336\n",
      "9349\n",
      "9362\n",
      "9375\n",
      "9388\n",
      "9401\n",
      "9414\n",
      "9427\n",
      "9440\n",
      "9453\n",
      "9466\n",
      "9479\n",
      "9492\n",
      "9505\n",
      "9518\n",
      "9531\n",
      "9544\n",
      "9557\n",
      "9570\n",
      "9583\n",
      "9596\n",
      "9609\n",
      "9622\n",
      "9635\n",
      "9648\n",
      "9661\n",
      "9674\n",
      "9687\n",
      "9700\n",
      "9713\n",
      "9726\n",
      "9739\n",
      "9752\n",
      "9765\n",
      "9778\n",
      "9791\n",
      "9804\n",
      "9817\n",
      "9830\n",
      "9843\n",
      "9856\n",
      "9869\n",
      "9882\n",
      "9895\n",
      "9908\n",
      "9921\n",
      "9934\n",
      "9947\n",
      "9960\n",
      "9973\n",
      "9986\n",
      "9999\n"
     ]
    }
   ],
   "source": [
    "N = int(input())\n",
    "\n",
    "for i in range (10000):\n",
    "    if (i % N == 2):\n",
    "        print(i)"
   ]
  },
  {
   "cell_type": "markdown",
   "metadata": {},
   "source": [
    "# #1078"
   ]
  },
  {
   "cell_type": "code",
   "execution_count": 4,
   "metadata": {},
   "outputs": [
    {
     "name": "stdout",
     "output_type": "stream",
     "text": [
      "1 x 140 = 140\n",
      "2 x 140 = 280\n",
      "3 x 140 = 420\n",
      "4 x 140 = 560\n",
      "5 x 140 = 700\n",
      "6 x 140 = 840\n",
      "7 x 140 = 980\n",
      "8 x 140 = 1120\n",
      "9 x 140 = 1260\n",
      "10 x 140 = 1400\n"
     ]
    }
   ],
   "source": [
    "N = int(input())\n",
    "\n",
    "for i in range (1, 11):\n",
    "    quadrado = i * N\n",
    "    print(f\"{i} x {N} = {quadrado}\")"
   ]
  },
  {
   "cell_type": "markdown",
   "metadata": {},
   "source": [
    "# #1079"
   ]
  },
  {
   "cell_type": "code",
   "execution_count": 5,
   "metadata": {},
   "outputs": [
    {
     "name": "stdout",
     "output_type": "stream",
     "text": [
      "5.7\n",
      "6.3\n",
      "9.3\n"
     ]
    }
   ],
   "source": [
    "N = int(input())\n",
    "\n",
    "for i in range (N):\n",
    "    a, b, c = map(float, input().split())\n",
    "    \n",
    "    mediaPonderada = ((a * 2) + (b * 3) + (c * 5))/10\n",
    "    print(f\"{mediaPonderada:.1f}\")"
   ]
  },
  {
   "cell_type": "markdown",
   "metadata": {},
   "source": [
    "# #1080"
   ]
  },
  {
   "cell_type": "code",
   "execution_count": null,
   "metadata": {},
   "outputs": [],
   "source": [
    "lista = []\n",
    "maior = 0\n",
    "for i in range(100):\n",
    "    \n",
    "    N = int(input())\n",
    "    lista.append(N)\n",
    "    \n",
    "    if (len(lista)== 1):\n",
    "        maior = N\n",
    "        indice = 0\n",
    "    elif (N > maior):\n",
    "        maior = N\n",
    "        indice = lista.index(maior)\n",
    "        \n",
    "print(maior)\n",
    "print(indice + 1)"
   ]
  }
 ],
 "metadata": {
  "kernelspec": {
   "display_name": "base",
   "language": "python",
   "name": "python3"
  },
  "language_info": {
   "codemirror_mode": {
    "name": "ipython",
    "version": 3
   },
   "file_extension": ".py",
   "mimetype": "text/x-python",
   "name": "python",
   "nbconvert_exporter": "python",
   "pygments_lexer": "ipython3",
   "version": "3.11.8"
  }
 },
 "nbformat": 4,
 "nbformat_minor": 2
}
