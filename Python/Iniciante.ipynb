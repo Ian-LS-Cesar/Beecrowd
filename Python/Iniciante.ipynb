{
 "cells": [
  {
   "cell_type": "markdown",
   "metadata": {},
   "source": [
    "# #1000"
   ]
  },
  {
   "cell_type": "code",
   "execution_count": null,
   "metadata": {},
   "outputs": [],
   "source": [
    "\n",
    "print(\"Hello World!\")"
   ]
  },
  {
   "cell_type": "markdown",
   "metadata": {},
   "source": [
    "# #1001"
   ]
  },
  {
   "cell_type": "code",
   "execution_count": null,
   "metadata": {},
   "outputs": [],
   "source": [
    "A = int(input())\n",
    "B = int(input())\n",
    "\n",
    "X = A + B\n",
    "print(f\"X = {X}\")"
   ]
  },
  {
   "cell_type": "markdown",
   "metadata": {},
   "source": [
    "# #1002"
   ]
  },
  {
   "cell_type": "code",
   "execution_count": null,
   "metadata": {},
   "outputs": [],
   "source": [
    "raio = float(input())\n",
    "\n",
    "A = 3.14159 * (raio**2)\n",
    "\n",
    "print(f'A={A:.4f}')\n"
   ]
  },
  {
   "cell_type": "markdown",
   "metadata": {},
   "source": [
    "# #1003"
   ]
  },
  {
   "cell_type": "code",
   "execution_count": null,
   "metadata": {},
   "outputs": [],
   "source": [
    "A = int(input())\n",
    "B = int(input())\n",
    "\n",
    "X = A + B\n",
    "print(f\"SOMA = {X}\")"
   ]
  },
  {
   "cell_type": "markdown",
   "metadata": {},
   "source": [
    "# #1004"
   ]
  },
  {
   "cell_type": "code",
   "execution_count": null,
   "metadata": {},
   "outputs": [],
   "source": [
    "A = int(input())\n",
    "B = int(input())\n",
    "\n",
    "X = A * B\n",
    "print(f\"PROD = {X}\")"
   ]
  },
  {
   "cell_type": "markdown",
   "metadata": {},
   "source": [
    "# #1005"
   ]
  },
  {
   "cell_type": "code",
   "execution_count": null,
   "metadata": {},
   "outputs": [],
   "source": [
    "A = float(input())\n",
    "B = float(input())\n",
    "\n",
    "media = (3.5 * A + 7.5 * B)/11\n",
    "\n",
    "print(f\"MEDIA = {media:.5f}\")"
   ]
  },
  {
   "cell_type": "markdown",
   "metadata": {},
   "source": [
    "# #1006"
   ]
  },
  {
   "cell_type": "code",
   "execution_count": null,
   "metadata": {},
   "outputs": [],
   "source": [
    "A = float(input())\n",
    "B = float(input())\n",
    "C = float(input())\n",
    "\n",
    "media = (A*2 + B*3 + C*5)/10\n",
    "\n",
    "print(f'MEDIA = {media:.1f}')"
   ]
  },
  {
   "cell_type": "markdown",
   "metadata": {},
   "source": [
    "# #1007"
   ]
  },
  {
   "cell_type": "code",
   "execution_count": null,
   "metadata": {},
   "outputs": [],
   "source": [
    "A = int(input())\n",
    "B = int(input())\n",
    "C = int(input())\n",
    "D = int(input())\n",
    "\n",
    "diferenca = (A * B - C * D)\n",
    "\n",
    "print(f'DIFERENCA = {diferenca}')"
   ]
  },
  {
   "cell_type": "markdown",
   "metadata": {},
   "source": [
    "# #1008"
   ]
  },
  {
   "cell_type": "code",
   "execution_count": null,
   "metadata": {},
   "outputs": [],
   "source": [
    "funcionario = int(input())\n",
    "horasTrab = int(input())\n",
    "salHora = float(input())\n",
    "\n",
    "salario = horasTrab * salHora\n",
    "print(f'NUMBER = {funcionario}\\nSALARY = U$ {salario:.2f}')"
   ]
  },
  {
   "cell_type": "markdown",
   "metadata": {},
   "source": [
    "# #1009"
   ]
  },
  {
   "cell_type": "code",
   "execution_count": null,
   "metadata": {},
   "outputs": [],
   "source": [
    "nome = input()\n",
    "salarioFixo = float(input())\n",
    "vendas = float(input())\n",
    "\n",
    "comissao = vendas * 0.15\n",
    "\n",
    "salario = comissao + salarioFixo\n",
    "\n",
    "print(f\"TOTAL = R$ {salario:.2f}\")"
   ]
  },
  {
   "cell_type": "markdown",
   "metadata": {},
   "source": [
    "# #1010"
   ]
  },
  {
   "cell_type": "code",
   "execution_count": null,
   "metadata": {},
   "outputs": [],
   "source": [
    "produtoA = input().split(\" \")\n",
    "produtoB = input().split(\" \")\n",
    "\n",
    "codA,quantA,valA = produtoA\n",
    "codB,quantB,valB = produtoB\n",
    "\n",
    "total = (int(quantA) * float(valA) + (int(quantB) * float(valB)))\n",
    "\n",
    "print(f'VALOR A PAGAR: R$ {total:.2f}')"
   ]
  },
  {
   "cell_type": "markdown",
   "metadata": {},
   "source": [
    "# #1011"
   ]
  },
  {
   "cell_type": "code",
   "execution_count": null,
   "metadata": {},
   "outputs": [],
   "source": [
    "R = float(input())\n",
    "pi = 3.14159\n",
    "\n",
    "volume = (4/3.0)*pi*(R**3)\n",
    "\n",
    "print(f\"VOLUME = {volume:.3f}\")"
   ]
  },
  {
   "cell_type": "markdown",
   "metadata": {},
   "source": [
    "# #1012"
   ]
  },
  {
   "cell_type": "code",
   "execution_count": null,
   "metadata": {},
   "outputs": [],
   "source": [
    "A,B,C = map(float, input().split())\n",
    "pi = 3.14159\n",
    "\n",
    "areaTriangulo = (A * C)/2\n",
    "areaCirculo = pi * C**2\n",
    "areaTrapezio = ((A + B) * C)/2\n",
    "areaQuadrado = B ** 2\n",
    "areaRetangulo = A * B\n",
    "\n",
    "print(f\"TRIANGULO: {areaTriangulo:.3f}\")\n",
    "print(f\"CIRCULO: {areaCirculo:.3f}\")\n",
    "print(f\"TRAPEZIO: {areaTrapezio:.3f}\")\n",
    "print(f\"QUADRADO: {areaQuadrado:.3f}\")\n",
    "print(f\"RETANGULO: {areaRetangulo:.3f}\")\n"
   ]
  },
  {
   "cell_type": "markdown",
   "metadata": {},
   "source": [
    "# #1013"
   ]
  },
  {
   "cell_type": "code",
   "execution_count": null,
   "metadata": {},
   "outputs": [],
   "source": [
    "a, b, c = map(int, input().split())\n",
    "\n",
    "maiorAB = (a + b + abs(a - b))/2\n",
    "maiorABC = (maiorAB + c + abs(maiorAB - c))/2\n",
    "\n",
    "print(f\"{maiorABC:.0f} eh o maior\")"
   ]
  },
  {
   "cell_type": "markdown",
   "metadata": {},
   "source": [
    "# #1014"
   ]
  },
  {
   "cell_type": "code",
   "execution_count": null,
   "metadata": {},
   "outputs": [],
   "source": [
    "distanciaTotal = int(input())\n",
    "combustivelGasto = float(input())\n",
    "\n",
    "consumoMedio = distanciaTotal / combustivelGasto\n",
    "\n",
    "print(f\"{consumoMedio:.3f} km/l\")"
   ]
  },
  {
   "cell_type": "markdown",
   "metadata": {},
   "source": [
    "# #1015"
   ]
  },
  {
   "cell_type": "code",
   "execution_count": null,
   "metadata": {},
   "outputs": [],
   "source": [
    "x1, y1 = map(float, input().split())\n",
    "x2, y2 = map(float, input().split())\n",
    "\n",
    "distancia = ((x2 - x1)**2 + (y2 - y1)**2)**0.5\n",
    "\n",
    "print(f\"{distancia:.4f}\")"
   ]
  },
  {
   "cell_type": "markdown",
   "metadata": {},
   "source": [
    "# #1016"
   ]
  },
  {
   "cell_type": "code",
   "execution_count": null,
   "metadata": {},
   "outputs": [],
   "source": [
    "distancia = int(input())\n",
    "\n",
    "tempo = distancia * 2\n",
    "\n",
    "print(f\"{tempo} minutos\")\n"
   ]
  },
  {
   "cell_type": "markdown",
   "metadata": {},
   "source": [
    "# #1017"
   ]
  },
  {
   "cell_type": "code",
   "execution_count": null,
   "metadata": {},
   "outputs": [],
   "source": [
    "tempoGasto = int(input())\n",
    "velMedia = int(input())\n",
    "\n",
    "litNecessarios = (tempoGasto * velMedia) / 12\n",
    "\n",
    "print(f\"{litNecessarios:.3f}\")"
   ]
  },
  {
   "cell_type": "markdown",
   "metadata": {},
   "source": [
    "# #1018"
   ]
  },
  {
   "cell_type": "code",
   "execution_count": null,
   "metadata": {},
   "outputs": [],
   "source": [
    "dinheiro = int(input())\n",
    "total = dinheiro \n",
    "nota100, nota50, nota20, nota10, nota5, nota2, nota1 = 0, 0, 0, 0, 0, 0, 0\n",
    "\n",
    "\n",
    "if (dinheiro >= 100):\n",
    "    nota100 += dinheiro // 100\n",
    "    dinheiro = dinheiro - 100 * nota100\n",
    "\n",
    "if (dinheiro >= 50):\n",
    "    nota50 = dinheiro // 50\n",
    "    dinheiro = dinheiro - 50 * nota50\n",
    "    \n",
    "if (dinheiro >= 20):\n",
    "    nota20 = dinheiro // 20\n",
    "    dinheiro = dinheiro - 20 * nota20\n",
    "    \n",
    "if (dinheiro >= 10):\n",
    "    nota10 = dinheiro // 10\n",
    "    dinheiro = dinheiro - 10 * nota10\n",
    "    \n",
    "if (dinheiro >= 5):\n",
    "    nota5 = dinheiro // 5\n",
    "    dinheiro = dinheiro - 5 * nota5\n",
    "    \n",
    "if (dinheiro >= 2):\n",
    "    nota2 = dinheiro // 2\n",
    "    dinheiro = dinheiro - 2 * nota2\n",
    "    \n",
    "if (dinheiro == 1):\n",
    "    nota1 = dinheiro\n",
    "\n",
    "print(total)\n",
    "print(f\"{nota100} nota(s) de R$ 100,00\")\n",
    "print(f\"{nota50} nota(s) de R$ 50,00\")\n",
    "print(f\"{nota20} nota(s) de R$ 20,00\")\n",
    "print(f\"{nota10} nota(s) de R$ 10,00\")\n",
    "print(f\"{nota5} nota(s) de R$ 5,00\")\n",
    "print(f\"{nota2} nota(s) de R$ 2,00\")\n",
    "print(f\"{nota1} nota(s) de R$ 1,00\")"
   ]
  },
  {
   "cell_type": "markdown",
   "metadata": {},
   "source": [
    "# #1019"
   ]
  },
  {
   "cell_type": "code",
   "execution_count": null,
   "metadata": {},
   "outputs": [],
   "source": [
    "N = int(input())\n",
    "horas, minutos, segundos = 0, 0, 0\n",
    "\n",
    "if (N >= 3600):\n",
    "    horas = N // 3600\n",
    "    N = N - 3600 * horas\n",
    "if (N >= 60):\n",
    "    minutos = N // 60\n",
    "    N = N - 60 * minutos\n",
    "segundos = N\n",
    "\n",
    "print(f\"{horas}:{minutos}:{segundos}\")"
   ]
  },
  {
   "cell_type": "markdown",
   "metadata": {},
   "source": [
    "# #1020"
   ]
  },
  {
   "cell_type": "code",
   "execution_count": null,
   "metadata": {},
   "outputs": [],
   "source": [
    "idadeDias = int(input())\n",
    "anos, meses, dias = 0, 0, 0\n",
    "\n",
    "if (idadeDias >= 365):\n",
    "    anos = idadeDias // 365\n",
    "    idadeDias = idadeDias - anos * 365\n",
    "\n",
    "if (idadeDias >= 30):\n",
    "    meses = idadeDias // 30\n",
    "    idadeDias = idadeDias - meses * 30\n",
    "dias = idadeDias\n",
    "\n",
    "print(f\"{anos} ano(s)\")\n",
    "print(f\"{meses} mes(es)\")\n",
    "print(f\"{dias} dia(s)\")"
   ]
  },
  {
   "cell_type": "markdown",
   "metadata": {},
   "source": [
    "# #1021"
   ]
  },
  {
   "cell_type": "code",
   "execution_count": null,
   "metadata": {},
   "outputs": [],
   "source": [
    "dinheiro = float(input())\n",
    "total = dinheiro\n",
    "nota100, nota50, nota20, nota10, nota5, nota2, moeda1, moeda50, moeda025, moeda010, moeda005, moeda001 = 0, 0, 0, 0, 0, 0, 0, 0, 0, 0, 0, 0\n",
    "\n",
    "if (dinheiro >= 100):\n",
    "    nota100 += dinheiro // 100\n",
    "    dinheiro -= 100 * nota100\n",
    "\n",
    "if (dinheiro >= 50):\n",
    "    nota50 = dinheiro // 50\n",
    "    dinheiro -= 50 * nota50\n",
    "\n",
    "if (dinheiro >= 20):\n",
    "    nota20 = dinheiro // 20\n",
    "    dinheiro -= 20 * nota20\n",
    "\n",
    "if (dinheiro >= 10):\n",
    "    nota10 = dinheiro // 10\n",
    "    dinheiro -= 10 * nota10\n",
    "\n",
    "if (dinheiro >= 5):\n",
    "    nota5 = dinheiro // 5\n",
    "    dinheiro -= 5 * nota5\n",
    "\n",
    "if (dinheiro >= 2):\n",
    "    nota2 = dinheiro // 2\n",
    "    dinheiro -= 2 * nota2\n",
    "\n",
    "if (dinheiro >= 1):\n",
    "    moeda1 += int(dinheiro)\n",
    "    dinheiro -= 1 * moeda1\n",
    "\n",
    "dinheiro *= 100\n",
    "\n",
    "if (dinheiro >= 50):\n",
    "    moeda50 = dinheiro // 50\n",
    "    dinheiro -= 50 * moeda50\n",
    "\n",
    "if (dinheiro >= 25):\n",
    "    moeda025 = dinheiro // 25\n",
    "    dinheiro -= 25 * moeda025\n",
    "\n",
    "if (dinheiro >= 10):\n",
    "    moeda010 = dinheiro // 10\n",
    "    dinheiro -= 10 * moeda010\n",
    "\n",
    "if (dinheiro >= 5):\n",
    "    moeda005 = dinheiro // 5\n",
    "    dinheiro -= 5 * moeda005\n",
    "\n",
    "if (dinheiro >= 1):\n",
    "    moeda001 = int(dinheiro)\n",
    "\n",
    "print(\"NOTAS:\")\n",
    "print(f\"{nota100:.0f} nota(s) de R$ 100.00\")\n",
    "print(f\"{nota50:.0f} nota(s) de R$ 50.00\")\n",
    "print(f\"{nota20:.0f} nota(s) de R$ 20.00\")\n",
    "print(f\"{nota10:.0f} nota(s) de R$ 10.00\")\n",
    "print(f\"{nota5:.0f} nota(s) de R$ 5.00\")\n",
    "print(f\"{nota2:.0f} nota(s) de R$ 2.00\")\n",
    "\n",
    "print(\"MOEDAS:\")\n",
    "print(f\"{moeda1:.0f} moeda(s) de R$ 1.00\")\n",
    "print(f\"{moeda50:.0f} moeda(s) de R$ 0.50\")\n",
    "print(f\"{moeda025:.0f} moeda(s) de R$ 0.25\")\n",
    "print(f\"{moeda010:.0f} moeda(s) de R$ 0.10\")\n",
    "print(f\"{moeda005:.0f} moeda(s) de R$ 0.05\")\n",
    "print(f\"{moeda001:.0f} moeda(s) de R$ 0.01\")"
   ]
  },
  {
   "cell_type": "markdown",
   "metadata": {},
   "source": [
    "# #1035"
   ]
  },
  {
   "cell_type": "code",
   "execution_count": null,
   "metadata": {},
   "outputs": [],
   "source": [
    "A, B, C, D = map(int, input().split())\n",
    "\n",
    "if (B > C and D > A and C + D > A + B and C > 0 and D > 0 and A % 2 == 0):\n",
    "    print(\"Valores aceitos\")\n",
    "else:\n",
    "    print(\"Valores nao aceitos\")\n"
   ]
  },
  {
   "cell_type": "markdown",
   "metadata": {},
   "source": [
    "# #1036"
   ]
  },
  {
   "cell_type": "code",
   "execution_count": null,
   "metadata": {},
   "outputs": [],
   "source": [
    "A, B, C = map(float, input().split())\n",
    "\n",
    "delta = B**2 - 4 * A * C\n",
    "\n",
    "if (A == 0 or delta < 0):\n",
    "    print(\"Impossivel calcular\")\n",
    "else:\n",
    "    bhaskaraPosi = (-B + ((delta)) ** 0.5) / (2 * A)\n",
    "    bhaskaraNeg = (-B - ((delta)) ** 0.5) / (2 * A)\n",
    "    print(f\"R1 = {bhaskaraPosi:.5f}\")\n",
    "    print(f\"R2 = {bhaskaraNeg:.5f}\")"
   ]
  },
  {
   "cell_type": "markdown",
   "metadata": {},
   "source": [
    "# #1037"
   ]
  },
  {
   "cell_type": "code",
   "execution_count": null,
   "metadata": {},
   "outputs": [],
   "source": [
    "N = float(input())\n",
    "\n",
    "if (N >= 0 and N <= 25):\n",
    "    print(\"Intervalo [0,25]\")\n",
    "elif (N > 25 and N <= 50):\n",
    "    print(\"Intervalo (25,50]\")\n",
    "elif (N > 50 and N <= 75):\n",
    "    print(\"Intervalo (50,75]\")\n",
    "elif (N > 75 and N <=100):\n",
    "    print(\"Intervalo (75,100]\")\n",
    "else:\n",
    "    print(\"Fora de intervalo\")"
   ]
  },
  {
   "cell_type": "markdown",
   "metadata": {},
   "source": [
    "# #1038"
   ]
  },
  {
   "cell_type": "code",
   "execution_count": null,
   "metadata": {},
   "outputs": [],
   "source": [
    "codigo, quanti = map(int, input().split())\n",
    "\n",
    "match codigo:\n",
    "    case 1:\n",
    "        valor = 4\n",
    "    case 2:\n",
    "        valor = 4.5\n",
    "    case 3:\n",
    "        valor = 5\n",
    "    case 4:\n",
    "        valor = 2\n",
    "    case 5:\n",
    "        valor = 1.5\n",
    "\n",
    "preco = quanti * valor\n",
    "\n",
    "print(f\"Total: R$ {preco:.2f}\")\n",
    "\n"
   ]
  },
  {
   "cell_type": "markdown",
   "metadata": {},
   "source": [
    "# #1040"
   ]
  },
  {
   "cell_type": "code",
   "execution_count": null,
   "metadata": {},
   "outputs": [],
   "source": [
    "n1, n2, n3, n4 = map(float, input().split())\n",
    "\n",
    "notaRecu = 0\n",
    "media = (n1*2 + n2*3 + n3*4 + n4*1)/10\n",
    "\n",
    "\n",
    "print(f\"Media: {media:.1f}\")\n",
    "\n",
    "if (media >= 7):\n",
    "    print(\"Aluno aprovado.\")\n",
    "elif (5 <= media <= 6.9):\n",
    "    print(\"Aluno em exame.\")\n",
    "\n",
    "    notaRecu = float(input())\n",
    "    mediaRecu = (media + notaRecu) / 2\n",
    "    print(f\"Nota do exame: {notaRecu:.1f}\")\n",
    "    if (mediaRecu >= 5.0):\n",
    "        print(\"Aluno aprovado.\")\n",
    "        print(f\"Media final: {mediaRecu:.1f}\")\n",
    "    else:\n",
    "        print(\"Aluno reprovado.\")\n",
    "        print(f\"Media final: {mediaRecu:.1f}\")\n",
    "else:\n",
    "    print(\"Aluno reprovado.\")"
   ]
  },
  {
   "cell_type": "markdown",
   "metadata": {},
   "source": [
    "# #1041"
   ]
  },
  {
   "cell_type": "code",
   "execution_count": null,
   "metadata": {},
   "outputs": [],
   "source": [
    "x, y = map(float, input().split())\n",
    "\n",
    "if (x == 0 and y == 0):\n",
    "    print(\"Origem\")\n",
    "elif (x > 0 and y > 0):\n",
    "    print(\"Q1\")\n",
    "elif (x < 0 and y > 0):\n",
    "    print(\"Q2\")\n",
    "elif (x < 0 and y < 0):\n",
    "    print(\"Q3\")\n",
    "elif (x > 0 and y < 0):\n",
    "    print(\"Q4\")\n",
    "elif (x == 0 and y != 0):\n",
    "    print(\"Eixo Y\")\n",
    "elif (x != 0 and y == 0):\n",
    "    print(\"Eixo x\")"
   ]
  },
  {
   "cell_type": "markdown",
   "metadata": {},
   "source": [
    "# #1042"
   ]
  },
  {
   "cell_type": "code",
   "execution_count": null,
   "metadata": {},
   "outputs": [],
   "source": [
    "a, b, c = map(int, input().split())\n",
    "\n",
    "if (a > b > c):\n",
    "    print(f'{c}\\n{b}\\n{a}\\n\\n{a}\\n{b}\\n{c}')\n",
    "elif (b > a > c):\n",
    "    print(f'{b}\\n{a}\\n{b}\\n\\n{a}\\n{b}\\n{c}')\n",
    "elif (c > b > a):\n",
    "    print(f'{a}\\n{b}\\n{c}\\n\\n{a}\\n{b}\\n{c}')\n",
    "elif (a > c > b):\n",
    "    print(f'{b}\\n{c}\\n{a}\\n\\n{a}\\n{b}\\n{c}')\n",
    "elif (b > c > a):\n",
    "    print(f'{a}\\n{c}\\n{b}\\n\\n{a}\\n{b}\\n{c}')\n",
    "elif (c > a > b):\n",
    "    print(f'{b}\\n{a}\\n{c}\\n\\n{a}\\n{b}\\n{c}')\n"
   ]
  },
  {
   "cell_type": "markdown",
   "metadata": {},
   "source": [
    "# #1043"
   ]
  },
  {
   "cell_type": "code",
   "execution_count": null,
   "metadata": {},
   "outputs": [],
   "source": [
    "a, b, c = map(float, input().split())\n",
    "\n",
    "if (a + b > c and a + c > b and b + c > a):\n",
    "    perimetro = a + b + c\n",
    "    print(f'Perimetro = {perimetro:.1f}')\n",
    "else:\n",
    "    area = ((a + b) * c)/2\n",
    "    print(f'Area = {area:.1f}')"
   ]
  },
  {
   "cell_type": "markdown",
   "metadata": {},
   "source": [
    "# #1044"
   ]
  },
  {
   "cell_type": "code",
   "execution_count": null,
   "metadata": {},
   "outputs": [],
   "source": [
    "a, b = map(int, input().split())\n",
    "\n",
    "if (a % b == 0 or b % a == 0):\n",
    "    print(\"Sao Multiplos\")\n",
    "else:\n",
    "    print(\"Nao sao Multiplos\") "
   ]
  },
  {
   "cell_type": "markdown",
   "metadata": {},
   "source": [
    "# #1045"
   ]
  },
  {
   "cell_type": "code",
   "execution_count": null,
   "metadata": {},
   "outputs": [],
   "source": [
    "Lados = [float(x) for x in input().split(' ')]\n",
    "Lados.sort(reverse=True)\n",
    "A, B, C = Lados\n",
    "\n",
    "    \n",
    "if (A >= (B + C)):    \n",
    "    print(\"NAO FORMA TRIANGULO\")\n",
    "else:\n",
    "    if (A**2 == (B**2) + (C**2)):\n",
    "        print(\"TRIANGULO RETANGULO\")\n",
    "\n",
    "    elif (A**2 > (B**2) + (C**2)):\n",
    "        print(\"TRIANGULO OBTUSANGULO\") \n",
    "    \n",
    "    else:\n",
    "        print(\"TRIANGULO ACUTANGULO\")\n",
    "    \n",
    "    if (A == B == C):\n",
    "            print(\"TRIANGULO EQUILATERO\")\n",
    "\n",
    "    elif (A == B != C or A == C != B or A != B == C):\n",
    "            print(\"TRIANGULO ISOSCELES\")\n",
    "\n"
   ]
  },
  {
   "cell_type": "markdown",
   "metadata": {},
   "source": [
    "# #1046"
   ]
  },
  {
   "cell_type": "code",
   "execution_count": null,
   "metadata": {},
   "outputs": [],
   "source": [
    "horaInicial, horaFinal = map(int, input().split())\n",
    "\n",
    "if horaInicial < horaFinal:\n",
    "    horasTotais = horaFinal - horaInicial\n",
    "else:\n",
    "    horasTotais = (24 + horaFinal) - horaInicial\n",
    "print(f\"O JOGO DUROU {horasTotais} HORA(S)\")"
   ]
  },
  {
   "cell_type": "markdown",
   "metadata": {},
   "source": [
    "# #1047"
   ]
  },
  {
   "cell_type": "code",
   "execution_count": null,
   "metadata": {},
   "outputs": [],
   "source": [
    "horaInicial, minutoInicial, horaFinal, minutoFinal = map(int, input().split())\n",
    "\n",
    "if (horaInicial == minutoInicial == horaFinal == minutoFinal):\n",
    "    horasTotais = 24\n",
    "    minutosTotais = 0\n",
    "else:\n",
    "    totalInicial = ((horaInicial * 60) + minutoInicial)\n",
    "    totalFinal = ((horaFinal * 60) + minutoFinal)\n",
    "\n",
    "    if (totalInicial > totalFinal):\n",
    "        totalFinal += 1440\n",
    "    tempoTotal = totalFinal - totalInicial\n",
    "\n",
    "    horasTotais = tempoTotal // 60\n",
    "    minutosTotais = tempoTotal - (horasTotais * 60)  \n",
    "\n",
    "\n",
    "print(f\"O JOGO DUROU {horasTotais} HORA(S) E {minutosTotais} MINUTO(S)\")\n",
    "\n"
   ]
  },
  {
   "cell_type": "markdown",
   "metadata": {},
   "source": [
    "# #1048"
   ]
  },
  {
   "cell_type": "code",
   "execution_count": null,
   "metadata": {},
   "outputs": [],
   "source": [
    "salario = float(input())\n",
    "reajuste = 0 \n",
    "if (0 <= salario <= 400):\n",
    "    reajuste = 0.15\n",
    "    novoSalario = salario + (salario * reajuste)\n",
    "    reajusteGanho = novoSalario - salario\n",
    "elif (400 < salario <= 800):\n",
    "    reajuste = 0.12\n",
    "    novoSalario = salario + (salario * reajuste)\n",
    "    reajusteGanho = novoSalario - salario\n",
    "\n",
    "elif (800 < salario <= 1200):\n",
    "    reajuste = 0.10\n",
    "    novoSalario = salario + (salario * reajuste)\n",
    "    reajusteGanho = novoSalario - salario\n",
    "\n",
    "elif (1200 < salario <= 2000):\n",
    "    reajuste = 0.07\n",
    "    novoSalario = salario + (salario * reajuste)\n",
    "    reajusteGanho = novoSalario - salario\n",
    "\n",
    "elif (2000 < salario):\n",
    "    reajuste = 0.04\n",
    "    novoSalario = salario + (salario * reajuste)\n",
    "    reajusteGanho = novoSalario - salario\n",
    "print(f\"Novo salario: {novoSalario:.2f}\\nReajuste ganho: {reajusteGanho:.2f}\\nEm percentual: {reajuste * 100:.0f} %\")"
   ]
  },
  {
   "cell_type": "markdown",
   "metadata": {},
   "source": [
    "# #1049"
   ]
  },
  {
   "cell_type": "code",
   "execution_count": null,
   "metadata": {},
   "outputs": [],
   "source": [
    "vertebra = input()\n",
    "\n",
    "match vertebra:\n",
    "    case \"vertebrado\":\n",
    "        reino1 = input()\n",
    "        \n",
    "        match reino1:\n",
    "            case \"ave\":\n",
    "                alimentacao1 = input()\n",
    "                \n",
    "                match alimentacao1:\n",
    "                    \n",
    "                    case \"carnivoro\":\n",
    "                        print(\"aguia\")\n",
    "                        \n",
    "                    case \"onivoro\":\n",
    "                        print(\"pomba\")\n",
    "            case \"mamifero\":\n",
    "                alimentacao2 = input()\n",
    "                match alimentacao2:\n",
    "                    \n",
    "                    case \"onivoro\":\n",
    "                        print(\"homem\")\n",
    "                        \n",
    "                    case \"herbivoro\":\n",
    "                        print(\"vaca\")\n",
    "    case \"invertebrado\":\n",
    "        reino2 = input()\n",
    "        \n",
    "        match reino2:\n",
    "            case \"inseto\":\n",
    "                alimentacao3 = input()\n",
    "                \n",
    "                match alimentacao3:\n",
    "                    \n",
    "                    case \"hematofago\":\n",
    "                        print(\"pulga\")\n",
    "                        \n",
    "                    case \"herbivoro\":\n",
    "                        print(\"lagarta\")\n",
    "                \n",
    "            case \"anelideo\":\n",
    "                alimentacao4 = input()\n",
    "                \n",
    "                match alimentacao4:\n",
    "                    \n",
    "                    case \"hematofago\":\n",
    "                        print(\"sanguessuga\")\n",
    "                        \n",
    "                    case \"onivoro\":\n",
    "                        print(\"minhoca\")\n",
    "        "
   ]
  },
  {
   "cell_type": "markdown",
   "metadata": {},
   "source": [
    "# #1050"
   ]
  },
  {
   "cell_type": "code",
   "execution_count": null,
   "metadata": {},
   "outputs": [],
   "source": [
    "DDD = int(input())\n",
    "\n",
    "match DDD:\n",
    "    case 11:\n",
    "        print(\"Sao Paulo\")\n",
    "    case 19:\n",
    "        print(\"Campinas\")\n",
    "    case 21:\n",
    "        print(\"Rio de Janeiro\")\n",
    "    case 27:\n",
    "        print(\"Vitoria\")\n",
    "    case 31:\n",
    "        print(\"Belo Horizonte\")\n",
    "    case 32:\n",
    "        print(\"Juiz de Fora\")\n",
    "    case 61:\n",
    "        print(\"Brasilia\")\n",
    "    case 71:\n",
    "        print(\"Salvador\")\n",
    "if (DDD != 11 and DDD != 19 and DDD != 21 and DDD != 27 and DDD != 31 and DDD != 32 and DDD != 61 and DDD != 71):\n",
    "    print(\"DDD nao cadastrado\")"
   ]
  },
  {
   "cell_type": "markdown",
   "metadata": {},
   "source": [
    "# #1051\n"
   ]
  },
  {
   "cell_type": "code",
   "execution_count": null,
   "metadata": {},
   "outputs": [],
   "source": [
    "salario = float(input())\n",
    "Isento = False\n",
    "\n",
    "\n",
    "if (0 <= salario <= 2000):\n",
    "    Isento = True\n",
    "elif (2000 < salario <= 3000):\n",
    "    impostoRenda = ((salario - 2000) * 0.08)\n",
    "elif (3000 < salario <= 4500):\n",
    "    impostoRenda = (1000 * 0.08 ) + ((salario - 3000) * 0.18)\n",
    "elif (4500 < salario):\n",
    "    impostoRenda = ((1000) * 0.08) + (1500 * 0.18) + ((salario - 4500) * 0.28)\n",
    "    \n",
    "if (Isento == True):\n",
    "    print(\"Isento\")\n",
    "else:\n",
    "    print(f\"R$ {impostoRenda:.2f}\")"
   ]
  },
  {
   "cell_type": "markdown",
   "metadata": {},
   "source": [
    "# #1052"
   ]
  },
  {
   "cell_type": "code",
   "execution_count": null,
   "metadata": {},
   "outputs": [],
   "source": [
    "mes = int(input())\n",
    "\n",
    "match mes:\n",
    "    case 1:\n",
    "        print('January')\n",
    "    case 2:\n",
    "        print('February')\n",
    "    case 3:\n",
    "        print('March')\n",
    "    case 4:\n",
    "        print('April')\n",
    "    case 5:\n",
    "        print('May')\n",
    "    case 6:\n",
    "        print('June')\n",
    "    case 7:\n",
    "        print('July')\n",
    "    case 8:\n",
    "        print('August')\n",
    "    case 9:\n",
    "        print('September')\n",
    "    case 10:\n",
    "        print('October')\n",
    "    case 11:\n",
    "        print('November')\n",
    "    case 12:\n",
    "        print('December')"
   ]
  },
  {
   "cell_type": "markdown",
   "metadata": {},
   "source": [
    "# #1059"
   ]
  },
  {
   "cell_type": "code",
   "execution_count": null,
   "metadata": {},
   "outputs": [],
   "source": [
    "for i in range (2, 101, 2):\n",
    "   print(i)"
   ]
  },
  {
   "cell_type": "markdown",
   "metadata": {},
   "source": [
    "# #1060"
   ]
  },
  {
   "cell_type": "code",
   "execution_count": null,
   "metadata": {},
   "outputs": [],
   "source": [
    "positivo = 0\n",
    "for i in range (6):\n",
    "    N = float(input())\n",
    "    if (N > 0):\n",
    "        positivo += 1\n",
    "print(f\"{positivo} valores positivos\")"
   ]
  },
  {
   "cell_type": "markdown",
   "metadata": {},
   "source": [
    "# #1061"
   ]
  },
  {
   "cell_type": "code",
   "execution_count": null,
   "metadata": {},
   "outputs": [],
   "source": [
    "dia, data1 = input().split()\n",
    "data1 = int(data1)\n",
    "hora1, minuto1, segundo1 = map(int, input().split(\" : \"))\n",
    "\n",
    "dia, data2 = input().split()\n",
    "data2 = int(data2)\n",
    "hora2, minuto2, segundo2 = map(int, input().split(\" : \"))\n",
    "\n",
    "segundos = segundo2 - segundo1\n",
    "minutos = minuto2 - minuto1\n",
    "horas = hora2 - hora1\n",
    "data = data2 - data1\n",
    "\n",
    "if (segundos < 0):\n",
    "    segundos += 60\n",
    "    minutos -= 1\n",
    "if (minutos < 0):\n",
    "    minutos += 60\n",
    "    horas -=1\n",
    "if(horas < 0):\n",
    "    horas += 24\n",
    "    data -= 1\n",
    "\n",
    "print(f\"{data} dia(s)\\n{horas} hora(s)\\n{minutos} minuto(s)\\n{segundos} segundo(s)\")"
   ]
  },
  {
   "cell_type": "markdown",
   "metadata": {},
   "source": [
    "# #1064"
   ]
  },
  {
   "cell_type": "code",
   "execution_count": null,
   "metadata": {},
   "outputs": [],
   "source": [
    "positivo = 0\n",
    "valores = 0\n",
    "for i in range (6):\n",
    "    N = float(input())\n",
    "    if (N > 0):\n",
    "        valores += N\n",
    "        positivo += 1\n",
    "print(f\"{positivo} valores positivos\\n{valores/positivo:.1f}\")"
   ]
  },
  {
   "cell_type": "markdown",
   "metadata": {},
   "source": [
    "# #1065"
   ]
  },
  {
   "cell_type": "code",
   "execution_count": null,
   "metadata": {},
   "outputs": [],
   "source": [
    "pares = 0\n",
    "\n",
    "for i in range (5):\n",
    "    N = int(input())\n",
    "    if (N % 2 == 0):\n",
    "        pares+=1\n",
    "print(f\"{pares} valores pares\")"
   ]
  },
  {
   "cell_type": "markdown",
   "metadata": {},
   "source": [
    "# #1066"
   ]
  },
  {
   "cell_type": "code",
   "execution_count": null,
   "metadata": {},
   "outputs": [],
   "source": [
    "pares = 0\n",
    "impares = 0\n",
    "positivos = 0\n",
    "negativos = 0\n",
    "\n",
    "for i in range (5):\n",
    "    N = int(input())\n",
    "    \n",
    "    if (N % 2 == 0):\n",
    "        pares += 1\n",
    "    else:\n",
    "        impares += 1\n",
    "    \n",
    "    if (N > 0):\n",
    "        positivos += 1\n",
    "    elif (N < 0):\n",
    "        negativos += 1\n",
    "        \n",
    "print(f\"{pares} valor(es) par(es)\\n{impares} valor(es) impar(es)\\n{positivos} valor(es) positivo(s)\\n{negativos} valor(es) negativo(s)\")"
   ]
  },
  {
   "cell_type": "markdown",
   "metadata": {},
   "source": [
    "# #1067"
   ]
  },
  {
   "cell_type": "code",
   "execution_count": null,
   "metadata": {},
   "outputs": [],
   "source": [
    "X = int(input())\n",
    "\n",
    "for i in range (1, X+1, 2):\n",
    "    print(i)"
   ]
  },
  {
   "cell_type": "markdown",
   "metadata": {},
   "source": [
    "# #1070"
   ]
  },
  {
   "cell_type": "code",
   "execution_count": null,
   "metadata": {},
   "outputs": [],
   "source": [
    "X = int(input())\n",
    "sequencia = 0\n",
    "\n",
    "if (X % 2 != 0):\n",
    "    i = X + 2\n",
    "    print(X)\n",
    "    sequencia += 1\n",
    "elif (X % 2 == 0):\n",
    "    i = X + 1\n",
    "\n",
    "while (sequencia < 6):\n",
    "    if (i % 2 != 0):\n",
    "        print(i)    \n",
    "        i+=2\n",
    "        sequencia+=1\n",
    "    else:\n",
    "        i+= 1\n",
    "        print(i)\n",
    "        sequencia+=1"
   ]
  },
  {
   "cell_type": "markdown",
   "metadata": {},
   "source": [
    "# #1071"
   ]
  },
  {
   "cell_type": "code",
   "execution_count": null,
   "metadata": {},
   "outputs": [],
   "source": [
    "X = int(input())\n",
    "Y = int(input())\n",
    "soma = 0\n",
    "for i in range (Y + 1, X):\n",
    "    if (i % 2 != 0):\n",
    "        soma += i\n",
    "print(soma)"
   ]
  },
  {
   "cell_type": "markdown",
   "metadata": {},
   "source": [
    "# #1072"
   ]
  },
  {
   "cell_type": "code",
   "execution_count": null,
   "metadata": {},
   "outputs": [],
   "source": [
    "N = int(input())\n",
    "in_ = 0\n",
    "out_ = 0\n",
    "for i in range (N):\n",
    "    X = int(input())\n",
    "    if (10 <= X <= 20):\n",
    "        in_ += 1\n",
    "    else:\n",
    "        out_ += 1\n",
    "print(f\"{in_} in\\n{out_} out\")"
   ]
  },
  {
   "cell_type": "markdown",
   "metadata": {},
   "source": [
    "# #1073"
   ]
  },
  {
   "cell_type": "code",
   "execution_count": null,
   "metadata": {},
   "outputs": [],
   "source": [
    "N = int(input())\n",
    "\n",
    "for i in range (1, N + 1):\n",
    "    if (i % 2 == 0):\n",
    "        quadrado = i ** 2\n",
    "        print(f\"{i}^2 = {quadrado}\")"
   ]
  },
  {
   "cell_type": "markdown",
   "metadata": {},
   "source": [
    "# #1074"
   ]
  },
  {
   "cell_type": "code",
   "execution_count": null,
   "metadata": {},
   "outputs": [],
   "source": [
    "N = int(input())\n",
    "\n",
    "for i in range (N):\n",
    "    x = int(input())\n",
    "    \n",
    "    if (x % 2 == 0):\n",
    "        if (x > 0):\n",
    "            print(\"EVEN POSITIVE\")\n",
    "        elif (x == 0):\n",
    "            print(\"NULL\")\n",
    "        elif (x < 0):\n",
    "            print(\"EVEN NEGATIVE\")\n",
    "    else:\n",
    "        if (x > 0):\n",
    "            print(\"ODD POSITIVE\")\n",
    "        elif (x == 0):\n",
    "            print(\"NULL\")\n",
    "        elif (x < 0):\n",
    "            print(\"ODD NEGATIVE\")"
   ]
  },
  {
   "cell_type": "markdown",
   "metadata": {},
   "source": [
    "# #1075"
   ]
  },
  {
   "cell_type": "code",
   "execution_count": null,
   "metadata": {},
   "outputs": [],
   "source": [
    "N = int(input())\n",
    "\n",
    "for i in range (10000):\n",
    "    if (i % N == 2):\n",
    "        print(i)"
   ]
  },
  {
   "cell_type": "markdown",
   "metadata": {},
   "source": [
    "# #1078"
   ]
  },
  {
   "cell_type": "code",
   "execution_count": null,
   "metadata": {},
   "outputs": [],
   "source": [
    "N = int(input())\n",
    "\n",
    "for i in range (1, 11):\n",
    "    quadrado = i * N\n",
    "    print(f\"{i} x {N} = {quadrado}\")"
   ]
  },
  {
   "cell_type": "markdown",
   "metadata": {},
   "source": [
    "# #1079"
   ]
  },
  {
   "cell_type": "code",
   "execution_count": null,
   "metadata": {},
   "outputs": [],
   "source": [
    "N = int(input())\n",
    "\n",
    "for i in range (N):\n",
    "    a, b, c = map(float, input().split())\n",
    "    \n",
    "    mediaPonderada = ((a * 2) + (b * 3) + (c * 5))/10\n",
    "    print(f\"{mediaPonderada:.1f}\")"
   ]
  },
  {
   "cell_type": "markdown",
   "metadata": {},
   "source": [
    "# #1080"
   ]
  },
  {
   "cell_type": "code",
   "execution_count": null,
   "metadata": {},
   "outputs": [],
   "source": [
    "lista = []\n",
    "maior = 0\n",
    "for i in range(100):\n",
    "    \n",
    "    N = int(input())\n",
    "    lista.append(N)\n",
    "    \n",
    "    if (len(lista)== 1):\n",
    "        maior = N\n",
    "        indice = 0\n",
    "    elif (N > maior):\n",
    "        maior = N\n",
    "        indice = lista.index(maior)\n",
    "        \n",
    "print(maior)\n",
    "print(indice + 1)"
   ]
  },
  {
   "cell_type": "markdown",
   "metadata": {},
   "source": [
    "# #1094"
   ]
  },
  {
   "cell_type": "code",
   "execution_count": null,
   "metadata": {},
   "outputs": [],
   "source": [
    "coelhos, ratos, sapos = 0, 0, 0\n",
    "N = int(input())\n",
    "for i in range (N):\n",
    "    quantAnimal, animal = map(str, input().split())\n",
    "    quantAnimal = int(quantAnimal)\n",
    "    \n",
    "    match animal:\n",
    "        case \"C\":\n",
    "            coelhos += quantAnimal\n",
    "        case \"R\":\n",
    "            ratos += quantAnimal\n",
    "        case \"S\":\n",
    "            sapos += quantAnimal\n",
    "\n",
    "totalAnimal = coelhos + ratos + sapos\n",
    "porC = (coelhos / totalAnimal) * 100\n",
    "porR = (ratos / totalAnimal) * 100\n",
    "porS = (sapos / totalAnimal) * 100\n",
    "\n",
    "print(f\"Total: {totalAnimal} cobaias\")\n",
    "print(f\"Total de coelhos: {coelhos}\")\n",
    "print(f\"Total de ratos: {ratos}\")\n",
    "print(f\"Total de sapos: {sapos}\")\n",
    "print(f\"Percentual de coelhos: {porC:.2f} %\")\n",
    "print(f\"Percentual de ratos: {porR:.2f} %\")\n",
    "print(f\"Percentual de sapos: {porS:.2f} %\")"
   ]
  },
  {
   "cell_type": "markdown",
   "metadata": {},
   "source": [
    "# #1095"
   ]
  },
  {
   "cell_type": "code",
   "execution_count": null,
   "metadata": {},
   "outputs": [],
   "source": [
    "I, J = 1, 60\n",
    "while J >= 0:\n",
    "    print(f\"I={I} J={J}\")\n",
    "    I += 3\n",
    "    J -= 5    "
   ]
  },
  {
   "cell_type": "markdown",
   "metadata": {},
   "source": [
    "# #1096"
   ]
  },
  {
   "cell_type": "code",
   "execution_count": null,
   "metadata": {},
   "outputs": [],
   "source": [
    "I, J = 1, 7\n",
    "while (I <= 9 and J >= 5):\n",
    "    print(f\"I={I} J={J}\")\n",
    "    print(f\"I={I} J={J-1}\")\n",
    "    print(f\"I={I} J={J-2}\")\n",
    "    I += 2\n",
    "    J = 7     "
   ]
  },
  {
   "cell_type": "markdown",
   "metadata": {},
   "source": [
    "# #1097"
   ]
  },
  {
   "cell_type": "code",
   "execution_count": null,
   "metadata": {},
   "outputs": [],
   "source": [
    "I, J = 1, 7\n",
    "while (I <= 9 and (J - 2) <= 13):\n",
    "    print(f\"I={I} J={J}\")\n",
    "    print(f\"I={I} J={J-1}\")\n",
    "    print(f\"I={I} J={J-2}\")\n",
    "    I += 2\n",
    "    J += 2"
   ]
  },
  {
   "cell_type": "markdown",
   "metadata": {},
   "source": [
    "# #1098 (Não feito)"
   ]
  },
  {
   "cell_type": "code",
   "execution_count": null,
   "metadata": {},
   "outputs": [],
   "source": [
    "I, J = 0, 1\n",
    "    \n",
    "while (I <= 2):\n",
    "    if (((I / 2 - I // 2) != 0.5) or (I % 2 != 0)):\n",
    "        print(f\"I={I:.1f} J={J:.1f}\")\n",
    "        print(f\"I={I:.1f} J={J + 1:.1f}\")\n",
    "        print(f\"I={I:.1f} J={J + 2:.1f}\")\n",
    "        I += 0.2\n",
    "        J += 0.2 \n",
    "        \n",
    "    elif (((I / 2 - I // 2) == 0.5) or (I % 2 == 0)) :\n",
    "        print(f\"I={I:.0f} J={J:.0f}\")\n",
    "        print(f\"I={I:.0f} J={J + 1:.0f}\")\n",
    "        print(f\"I={I:.0f} J={J + 2:.0f}\")\n",
    "        I += 0.2\n",
    "        J += 0.2    "
   ]
  },
  {
   "cell_type": "markdown",
   "metadata": {},
   "source": [
    "# #1099"
   ]
  },
  {
   "cell_type": "code",
   "execution_count": null,
   "metadata": {},
   "outputs": [],
   "source": [
    "N = int(input())\n",
    "\n",
    "for i in range(N):\n",
    "    impares = 0\n",
    "    a, b = map(int, input().split())\n",
    "    if (a > b):\n",
    "        for j in range (b + 1,a):\n",
    "            if (j % 2 != 0):\n",
    "                impares += j\n",
    "    else:\n",
    "        for j in range (a + 1,b):\n",
    "            if (j % 2 != 0):\n",
    "                impares += j\n",
    "                \n",
    "    print(impares)"
   ]
  },
  {
   "cell_type": "markdown",
   "metadata": {},
   "source": [
    "# #1101"
   ]
  },
  {
   "cell_type": "code",
   "execution_count": null,
   "metadata": {},
   "outputs": [],
   "source": []
  },
  {
   "cell_type": "markdown",
   "metadata": {},
   "source": [
    "# #1113"
   ]
  },
  {
   "cell_type": "code",
   "execution_count": null,
   "metadata": {},
   "outputs": [],
   "source": [
    "c = 0\n",
    "\n",
    "while (c != 1):\n",
    "    X, Y = map(int, input().split())\n",
    "    \n",
    "    if (X > Y):\n",
    "        print(\"Decrescente\")\n",
    "    elif (X < Y):\n",
    "        print(\"Crescente\")\n",
    "    else:\n",
    "        c = 1"
   ]
  },
  {
   "cell_type": "markdown",
   "metadata": {},
   "source": [
    "# #1114"
   ]
  },
  {
   "cell_type": "code",
   "execution_count": null,
   "metadata": {},
   "outputs": [],
   "source": [
    "c = 0\n",
    "while (c != 1):\n",
    "    X = int(input())\n",
    "    if (X == 2002):\n",
    "        print(\"Acesso Permitido\")\n",
    "        c = 1\n",
    "    else:\n",
    "        print(\"Senha Invalida\")"
   ]
  },
  {
   "cell_type": "markdown",
   "metadata": {},
   "source": [
    "# #1115"
   ]
  },
  {
   "cell_type": "code",
   "execution_count": null,
   "metadata": {},
   "outputs": [],
   "source": [
    "X, Y = 1, 1\n",
    "while (X != 0 or Y != 0):\n",
    "    X, Y = map(int, input().split())\n",
    "    \n",
    "    if (X > 0 and Y > 0):\n",
    "        print(\"primeiro\")\n",
    "    elif (X < 0 and Y > 0):\n",
    "        print(\"segundo\")\n",
    "    elif (X < 0 and Y < 0):\n",
    "        print(\"terceiro\")\n",
    "    elif(X > 0 and Y < 0):\n",
    "        print(\"quarto\")\n"
   ]
  }
 ],
 "metadata": {
  "kernelspec": {
   "display_name": "base",
   "language": "python",
   "name": "python3"
  },
  "language_info": {
   "codemirror_mode": {
    "name": "ipython",
    "version": 3
   },
   "file_extension": ".py",
   "mimetype": "text/x-python",
   "name": "python",
   "nbconvert_exporter": "python",
   "pygments_lexer": "ipython3",
   "version": "3.11.8"
  }
 },
 "nbformat": 4,
 "nbformat_minor": 2
}
